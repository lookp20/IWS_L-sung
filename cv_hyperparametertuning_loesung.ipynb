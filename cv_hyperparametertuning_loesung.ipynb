{
 "metadata": {
  "language_info": {
   "codemirror_mode": {
    "name": "ipython",
    "version": 3
   },
   "file_extension": ".py",
   "mimetype": "text/x-python",
   "name": "python",
   "nbconvert_exporter": "python",
   "pygments_lexer": "ipython3",
   "version": "3.8.3-final"
  },
  "orig_nbformat": 2,
  "kernelspec": {
   "name": "python3",
   "display_name": "Python 3",
   "language": "python"
  }
 },
 "nbformat": 4,
 "nbformat_minor": 2,
 "cells": [
  {
   "source": [
    "# Cross-Validation und Hyperparameter-Tuning"
   ],
   "cell_type": "markdown",
   "metadata": {}
  },
  {
   "source": [
    "## Darstellung der Daten"
   ],
   "cell_type": "markdown",
   "metadata": {}
  },
  {
   "cell_type": "code",
   "execution_count": 12,
   "metadata": {},
   "outputs": [
    {
     "output_type": "display_data",
     "data": {
      "text/plain": "<Figure size 720x216 with 16 Axes>",
      "image/svg+xml": "<?xml version=\"1.0\" encoding=\"utf-8\" standalone=\"no\"?>\n<!DOCTYPE svg PUBLIC \"-//W3C//DTD SVG 1.1//EN\"\n  \"http://www.w3.org/Graphics/SVG/1.1/DTD/svg11.dtd\">\n<!-- Created with matplotlib (https://matplotlib.org/) -->\n<svg height=\"58.886546pt\" version=\"1.1\" viewBox=\"0 0 572.4 58.886546\" width=\"572.4pt\" xmlns=\"http://www.w3.org/2000/svg\" xmlns:xlink=\"http://www.w3.org/1999/xlink\">\n <defs>\n  <style type=\"text/css\">\n*{stroke-linecap:butt;stroke-linejoin:round;}\n  </style>\n </defs>\n <g id=\"figure_1\">\n  <g id=\"patch_1\">\n   <path d=\"M 0 58.886546 \nL 572.4 58.886546 \nL 572.4 0 \nL 0 0 \nz\n\" style=\"fill:none;\"/>\n  </g>\n  <g id=\"axes_1\">\n   <g clip-path=\"url(#ped21db04b4)\">\n    <image height=\"30\" id=\"image9189e46acd\" transform=\"scale(1 -1)translate(0 -30)\" width=\"30\" x=\"7.2\" xlink:href=\"data:image/png;base64,\niVBORw0KGgoAAAANSUhEUgAAAB4AAAAeCAYAAAA7MK6iAAAABHNCSVQICAgIfAhkiAAAAOhJREFUSIntVsENhCAQxMs1YAlqCVqCLdiCLdiCtGAJUgK2IB1oCVoC9yM766H3uEQSnNcOC2wyE3ZJrLVWeDAMA/C+74FXVQV8HEffVQe8ft75Z8RXOOEer+vq4rIsYTP3XCkFfFkWF8/zfFo4PqlvK/zmC9Rj/k6bpgFe17WXSykh13Ud8Edqse+7i/lz4kjTFDi1ht7zDfFJHY7H1DetNeT4WDw7e4X4pA7TY2MM5Gg7FUKIPM+B01F41QPikzocj6k3WZZBrigK4HxMTtPk4rZtTws/UgOufhG8RW7b5s1xxCf1bYU//4pC1JCopsgAAAAASUVORK5CYII=\" y=\"-21.686546\"/>\n   </g>\n   <g id=\"text_1\">\n    <!-- 0 -->\n    <defs>\n     <path d=\"M 31.78125 66.40625 \nQ 24.171875 66.40625 20.328125 58.90625 \nQ 16.5 51.421875 16.5 36.375 \nQ 16.5 21.390625 20.328125 13.890625 \nQ 24.171875 6.390625 31.78125 6.390625 \nQ 39.453125 6.390625 43.28125 13.890625 \nQ 47.125 21.390625 47.125 36.375 \nQ 47.125 51.421875 43.28125 58.90625 \nQ 39.453125 66.40625 31.78125 66.40625 \nz\nM 31.78125 74.21875 \nQ 44.046875 74.21875 50.515625 64.515625 \nQ 56.984375 54.828125 56.984375 36.375 \nQ 56.984375 17.96875 50.515625 8.265625 \nQ 44.046875 -1.421875 31.78125 -1.421875 \nQ 19.53125 -1.421875 13.0625 8.265625 \nQ 6.59375 17.96875 6.59375 36.375 \nQ 6.59375 54.828125 13.0625 64.515625 \nQ 19.53125 74.21875 31.78125 74.21875 \nz\n\" id=\"DejaVuSans-48\"/>\n    </defs>\n    <g transform=\"translate(18.066711 16.318125)scale(0.12 -0.12)\">\n     <use xlink:href=\"#DejaVuSans-48\"/>\n    </g>\n   </g>\n  </g>\n  <g id=\"axes_2\">\n   <g clip-path=\"url(#p96283e9ee6)\">\n    <image height=\"30\" id=\"imageb20e0924f9\" transform=\"scale(1 -1)translate(0 -30)\" width=\"30\" x=\"42.442105\" xlink:href=\"data:image/png;base64,\niVBORw0KGgoAAAANSUhEUgAAAB4AAAAeCAYAAAA7MK6iAAAABHNCSVQICAgIfAhkiAAAALNJREFUSIntVsENwyAMbKoOwCYwQtiADWAURmADWIFNGAUmoD9U+2E5UqVEce7lE5ZPOmPwNuecLyacc4DXWgH33q+4lELWenNF/w15wh/qsPcOOO4pxr7vbGF5Vj/C9xcmx+kojDHsXHlWX6fHKaUVxxgPFVNKsXPlWX2a8EatPq01wPG3N8YAPOe84hACKSzP6uvM8S/w24t7jFchfCcoPFaTwFun1hpway27ljyrTxP+Atn8KsOVbO1qAAAAAElFTkSuQmCC\" y=\"-21.686546\"/>\n   </g>\n   <g id=\"text_2\">\n    <!-- 1 -->\n    <defs>\n     <path d=\"M 12.40625 8.296875 \nL 28.515625 8.296875 \nL 28.515625 63.921875 \nL 10.984375 60.40625 \nL 10.984375 69.390625 \nL 28.421875 72.90625 \nL 38.28125 72.90625 \nL 38.28125 8.296875 \nL 54.390625 8.296875 \nL 54.390625 0 \nL 12.40625 0 \nz\n\" id=\"DejaVuSans-49\"/>\n    </defs>\n    <g transform=\"translate(53.308816 16.318125)scale(0.12 -0.12)\">\n     <use xlink:href=\"#DejaVuSans-49\"/>\n    </g>\n   </g>\n  </g>\n  <g id=\"axes_3\">\n   <g clip-path=\"url(#p9f1c76e6b1)\">\n    <image height=\"30\" id=\"imagee818797f2e\" transform=\"scale(1 -1)translate(0 -30)\" width=\"30\" x=\"77.684211\" xlink:href=\"data:image/png;base64,\niVBORw0KGgoAAAANSUhEUgAAAB4AAAAeCAYAAAA7MK6iAAAABHNCSVQICAgIfAhkiAAAAOVJREFUSInllsENhCAQRXGzdynBErADrEBLsAMpQTqwBEvACmwBOrAEO2BvhBmjcDBZkvmneUCc5P84mcp771mmrLWA53kGvG1bqKdpAnfLsgD+5DZ9W/Qaf/FBnOM4juDOOff4sb7vQ9113eNbelaXk/G6rqFOZWqMARxnnBI9qys8Ms/zDDUec9ja4zhumXP+2Jie1eVkHCvOm7FrxkopwFLK27dY9KwuM2O82uDchmEArLUOdWqjomd1mRnjdbZtW8B1XQOO5zOe41j0rL5sILGEEID3fQeMf6emabIb07P6b41/pBhUSpALMfsAAAAASUVORK5CYII=\" y=\"-21.686546\"/>\n   </g>\n   <g id=\"text_3\">\n    <!-- 2 -->\n    <defs>\n     <path d=\"M 19.1875 8.296875 \nL 53.609375 8.296875 \nL 53.609375 0 \nL 7.328125 0 \nL 7.328125 8.296875 \nQ 12.9375 14.109375 22.625 23.890625 \nQ 32.328125 33.6875 34.8125 36.53125 \nQ 39.546875 41.84375 41.421875 45.53125 \nQ 43.3125 49.21875 43.3125 52.78125 \nQ 43.3125 58.59375 39.234375 62.25 \nQ 35.15625 65.921875 28.609375 65.921875 \nQ 23.96875 65.921875 18.8125 64.3125 \nQ 13.671875 62.703125 7.8125 59.421875 \nL 7.8125 69.390625 \nQ 13.765625 71.78125 18.9375 73 \nQ 24.125 74.21875 28.421875 74.21875 \nQ 39.75 74.21875 46.484375 68.546875 \nQ 53.21875 62.890625 53.21875 53.421875 \nQ 53.21875 48.921875 51.53125 44.890625 \nQ 49.859375 40.875 45.40625 35.40625 \nQ 44.1875 33.984375 37.640625 27.21875 \nQ 31.109375 20.453125 19.1875 8.296875 \nz\n\" id=\"DejaVuSans-50\"/>\n    </defs>\n    <g transform=\"translate(88.550921 16.318125)scale(0.12 -0.12)\">\n     <use xlink:href=\"#DejaVuSans-50\"/>\n    </g>\n   </g>\n  </g>\n  <g id=\"axes_4\">\n   <g clip-path=\"url(#pf0141bed4e)\">\n    <image height=\"30\" id=\"imagebdd0e61bf1\" transform=\"scale(1 -1)translate(0 -30)\" width=\"30\" x=\"112.926316\" xlink:href=\"data:image/png;base64,\niVBORw0KGgoAAAANSUhEUgAAAB4AAAAeCAYAAAA7MK6iAAAABHNCSVQICAgIfAhkiAAAANRJREFUSIntVsENwyAMvFRdICMgRmAFskpYISOQEWAEZsgqyQoZgf4q7Ao3n6pIxC9OtrF0p7M85JwzKrGuK8EhhFopAGCapsu1DzH7w+hv8FNKnudJcIxRzM/zXP2La94f1W1q7L0Xm7nGpY/HcRR7+6N6kFYmD06ttbZau20bwZz6/qhu007HcRCstSaYa5xSer9vOzUz+EPjUleuk1KK4H3fCf6maxn9Ud2OxuV5U/oSAJZlIdg5R3C5n6U9DtxUg14d3B6cWm4vY8zlwf1R/bfBLzb+PWpHBL06AAAAAElFTkSuQmCC\" y=\"-21.686546\"/>\n   </g>\n   <g id=\"text_4\">\n    <!-- 3 -->\n    <defs>\n     <path d=\"M 40.578125 39.3125 \nQ 47.65625 37.796875 51.625 33 \nQ 55.609375 28.21875 55.609375 21.1875 \nQ 55.609375 10.40625 48.1875 4.484375 \nQ 40.765625 -1.421875 27.09375 -1.421875 \nQ 22.515625 -1.421875 17.65625 -0.515625 \nQ 12.796875 0.390625 7.625 2.203125 \nL 7.625 11.71875 \nQ 11.71875 9.328125 16.59375 8.109375 \nQ 21.484375 6.890625 26.8125 6.890625 \nQ 36.078125 6.890625 40.9375 10.546875 \nQ 45.796875 14.203125 45.796875 21.1875 \nQ 45.796875 27.640625 41.28125 31.265625 \nQ 36.765625 34.90625 28.71875 34.90625 \nL 20.21875 34.90625 \nL 20.21875 43.015625 \nL 29.109375 43.015625 \nQ 36.375 43.015625 40.234375 45.921875 \nQ 44.09375 48.828125 44.09375 54.296875 \nQ 44.09375 59.90625 40.109375 62.90625 \nQ 36.140625 65.921875 28.71875 65.921875 \nQ 24.65625 65.921875 20.015625 65.03125 \nQ 15.375 64.15625 9.8125 62.3125 \nL 9.8125 71.09375 \nQ 15.4375 72.65625 20.34375 73.4375 \nQ 25.25 74.21875 29.59375 74.21875 \nQ 40.828125 74.21875 47.359375 69.109375 \nQ 53.90625 64.015625 53.90625 55.328125 \nQ 53.90625 49.265625 50.4375 45.09375 \nQ 46.96875 40.921875 40.578125 39.3125 \nz\n\" id=\"DejaVuSans-51\"/>\n    </defs>\n    <g transform=\"translate(123.793026 16.318125)scale(0.12 -0.12)\">\n     <use xlink:href=\"#DejaVuSans-51\"/>\n    </g>\n   </g>\n  </g>\n  <g id=\"axes_5\">\n   <g clip-path=\"url(#paf0b865cc5)\">\n    <image height=\"30\" id=\"image8f5f91dcaa\" transform=\"scale(1 -1)translate(0 -30)\" width=\"30\" x=\"148.168421\" xlink:href=\"data:image/png;base64,\niVBORw0KGgoAAAANSUhEUgAAAB4AAAAeCAYAAAA7MK6iAAAABHNCSVQICAgIfAhkiAAAAOVJREFUSIntldEJhDAQRJPj/rUErSAt2IF2oB0kJdiBLVhCOogt2IEdqBXk/pbMHgSFgwvE+ZrHhixM2Kz03ntxUdu2Add1DeycI980TfSu19Wmv1Z+jd93Dh/HAVwUBfA8z+SfN06mseRzvCwL+a7r4PB5nsBKKeB1Xcnv+w61siyB84v6a5zCOHm0fd8Dh+MjhBBSSvLWWqgNwwCcX9TpvHHbtuSnaYLaOI7Ry7TW5PkK5cov6nS+zFB8DfJVZ4yJ1kNVVQWcX9TpzHEovsr4f8tnlb9jTE/UUfGoOd9RflH/rfEH5F9EQhyT/u8AAAAASUVORK5CYII=\" y=\"-21.686546\"/>\n   </g>\n   <g id=\"text_5\">\n    <!-- 4 -->\n    <defs>\n     <path d=\"M 37.796875 64.3125 \nL 12.890625 25.390625 \nL 37.796875 25.390625 \nz\nM 35.203125 72.90625 \nL 47.609375 72.90625 \nL 47.609375 25.390625 \nL 58.015625 25.390625 \nL 58.015625 17.1875 \nL 47.609375 17.1875 \nL 47.609375 0 \nL 37.796875 0 \nL 37.796875 17.1875 \nL 4.890625 17.1875 \nL 4.890625 26.703125 \nz\n\" id=\"DejaVuSans-52\"/>\n    </defs>\n    <g transform=\"translate(159.035132 16.318125)scale(0.12 -0.12)\">\n     <use xlink:href=\"#DejaVuSans-52\"/>\n    </g>\n   </g>\n  </g>\n  <g id=\"axes_6\">\n   <g clip-path=\"url(#pa37cf21207)\">\n    <image height=\"30\" id=\"image35088a326c\" transform=\"scale(1 -1)translate(0 -30)\" width=\"30\" x=\"183.410526\" xlink:href=\"data:image/png;base64,\niVBORw0KGgoAAAANSUhEUgAAAB4AAAAeCAYAAAA7MK6iAAAABHNCSVQICAgIfAhkiAAAANtJREFUSIntl8ENhCAQRXGzdy3BUqQDOqAELcEOhA5swQqUDiiBErQC9kb8k4jxsFmS2X+alxkl+T+AVjHGKC40DAOwtfZqVAghhNY61fM8Z2df2e4XxW/hKpfxsizAdV0Dj+MI7JxL9bqu0Ou6Dpif1WVmfKdt24CllKnu+x56xhhgfla/nwxTa733l7Nt22bfxc/qMjNWSgHTI5RqmqZU0yuVip/VZWYcQsg+TK/J877e9x16TdMA87O6zIxpTlTHcQCfz3KaKdXfahC92uiX4t3fQk78rP7Zwh8Txz+Y7EXNPgAAAABJRU5ErkJggg==\" y=\"-21.686546\"/>\n   </g>\n   <g id=\"text_6\">\n    <!-- 5 -->\n    <defs>\n     <path d=\"M 10.796875 72.90625 \nL 49.515625 72.90625 \nL 49.515625 64.59375 \nL 19.828125 64.59375 \nL 19.828125 46.734375 \nQ 21.96875 47.46875 24.109375 47.828125 \nQ 26.265625 48.1875 28.421875 48.1875 \nQ 40.625 48.1875 47.75 41.5 \nQ 54.890625 34.8125 54.890625 23.390625 \nQ 54.890625 11.625 47.5625 5.09375 \nQ 40.234375 -1.421875 26.90625 -1.421875 \nQ 22.3125 -1.421875 17.546875 -0.640625 \nQ 12.796875 0.140625 7.71875 1.703125 \nL 7.71875 11.625 \nQ 12.109375 9.234375 16.796875 8.0625 \nQ 21.484375 6.890625 26.703125 6.890625 \nQ 35.15625 6.890625 40.078125 11.328125 \nQ 45.015625 15.765625 45.015625 23.390625 \nQ 45.015625 31 40.078125 35.4375 \nQ 35.15625 39.890625 26.703125 39.890625 \nQ 22.75 39.890625 18.8125 39.015625 \nQ 14.890625 38.140625 10.796875 36.28125 \nz\n\" id=\"DejaVuSans-53\"/>\n    </defs>\n    <g transform=\"translate(194.277237 16.318125)scale(0.12 -0.12)\">\n     <use xlink:href=\"#DejaVuSans-53\"/>\n    </g>\n   </g>\n  </g>\n  <g id=\"axes_7\">\n   <g clip-path=\"url(#p670d00a8bb)\">\n    <image height=\"30\" id=\"image066b1bbd90\" transform=\"scale(1 -1)translate(0 -30)\" width=\"30\" x=\"218.652632\" xlink:href=\"data:image/png;base64,\niVBORw0KGgoAAAANSUhEUgAAAB4AAAAeCAYAAAA7MK6iAAAABHNCSVQICAgIfAhkiAAAAMhJREFUSIntl2ENwyAQhekyAUhAQiXgACSBBBwgoRKQAA4qARSwf03vFm7pkmUst/eLL9Bc8l54KUvvvYuBaq2AnXOAY4yAtdbDs+u6Ar6Nhn5a/AbfqU2cYQgBsDEGcErpWG/bBvb+Gf9Gxlj7vgNurR1ray35LT+rF6oypZSA8ZXAdp5ZKUUO5mf1nBnjnHDmOee3B/Ozes7KxJmWUgDjjPE9p8TP6jkz9t4Dxt386veGEj+rycrEOr8UhHh+aVypUH5Wf23wA5e6QYo3H3IGAAAAAElFTkSuQmCC\" y=\"-21.686546\"/>\n   </g>\n   <g id=\"text_7\">\n    <!-- 6 -->\n    <defs>\n     <path d=\"M 33.015625 40.375 \nQ 26.375 40.375 22.484375 35.828125 \nQ 18.609375 31.296875 18.609375 23.390625 \nQ 18.609375 15.53125 22.484375 10.953125 \nQ 26.375 6.390625 33.015625 6.390625 \nQ 39.65625 6.390625 43.53125 10.953125 \nQ 47.40625 15.53125 47.40625 23.390625 \nQ 47.40625 31.296875 43.53125 35.828125 \nQ 39.65625 40.375 33.015625 40.375 \nz\nM 52.59375 71.296875 \nL 52.59375 62.3125 \nQ 48.875 64.0625 45.09375 64.984375 \nQ 41.3125 65.921875 37.59375 65.921875 \nQ 27.828125 65.921875 22.671875 59.328125 \nQ 17.53125 52.734375 16.796875 39.40625 \nQ 19.671875 43.65625 24.015625 45.921875 \nQ 28.375 48.1875 33.59375 48.1875 \nQ 44.578125 48.1875 50.953125 41.515625 \nQ 57.328125 34.859375 57.328125 23.390625 \nQ 57.328125 12.15625 50.6875 5.359375 \nQ 44.046875 -1.421875 33.015625 -1.421875 \nQ 20.359375 -1.421875 13.671875 8.265625 \nQ 6.984375 17.96875 6.984375 36.375 \nQ 6.984375 53.65625 15.1875 63.9375 \nQ 23.390625 74.21875 37.203125 74.21875 \nQ 40.921875 74.21875 44.703125 73.484375 \nQ 48.484375 72.75 52.59375 71.296875 \nz\n\" id=\"DejaVuSans-54\"/>\n    </defs>\n    <g transform=\"translate(229.519342 16.318125)scale(0.12 -0.12)\">\n     <use xlink:href=\"#DejaVuSans-54\"/>\n    </g>\n   </g>\n  </g>\n  <g id=\"axes_8\">\n   <g clip-path=\"url(#p061d1bfb67)\">\n    <image height=\"30\" id=\"imagee267e2fa1b\" transform=\"scale(1 -1)translate(0 -30)\" width=\"30\" x=\"253.894737\" xlink:href=\"data:image/png;base64,\niVBORw0KGgoAAAANSUhEUgAAAB4AAAAeCAYAAAA7MK6iAAAABHNCSVQICAgIfAhkiAAAAM1JREFUSIntVsENwyAMhKp/MgojsAFsACNkhWzAKIyQFdiAEdiA/irsKCZtH0Fy78XJNpbOOoxsrTVxAq014Nu2AW6tPSsd4vF15Y/g1/hJBY0xgHvvAS+lAL4sy+XG/KS+rbGkfHxIlhLwlBLgn/j6LzWwyLquIHnfd/KyXnpsRQx+Us8z436Oo5nGGC/HQgiA85N6nrXY+2/kRYzex845Mpef1PP4uAflUyGO398+v9YKYvhN4Cc1+cvEwPLhtZlzfp+VUmQtP6lva/wCYhxH566WtOQAAAAASUVORK5CYII=\" y=\"-21.686546\"/>\n   </g>\n   <g id=\"text_8\">\n    <!-- 7 -->\n    <defs>\n     <path d=\"M 8.203125 72.90625 \nL 55.078125 72.90625 \nL 55.078125 68.703125 \nL 28.609375 0 \nL 18.3125 0 \nL 43.21875 64.59375 \nL 8.203125 64.59375 \nz\n\" id=\"DejaVuSans-55\"/>\n    </defs>\n    <g transform=\"translate(264.761447 16.318125)scale(0.12 -0.12)\">\n     <use xlink:href=\"#DejaVuSans-55\"/>\n    </g>\n   </g>\n  </g>\n  <g id=\"axes_9\">\n   <g clip-path=\"url(#p055229af1b)\">\n    <image height=\"30\" id=\"image2435465f72\" transform=\"scale(1 -1)translate(0 -30)\" width=\"30\" x=\"289.136842\" xlink:href=\"data:image/png;base64,\niVBORw0KGgoAAAANSUhEUgAAAB4AAAAeCAYAAAA7MK6iAAAABHNCSVQICAgIfAhkiAAAAOtJREFUSIntVkENhDAQXC73Bwl1ACgAHNQBlYADkIAELOAAJyABFPR+ze4QmvtcINmb1w7bMMlMt23ivfd0AWut4PM8C56mqeB1XYd6mibRy7JM8NeV6K+hTzjBjPd9D7UxRizeti3Ky7IMdd/3ojcMg+D6rL5N+I0feG7HcYjeOI6Xa4mI8jwPtXMuKqzP6tM4cSzLInjTNNGfresaahxFhD6rnzNOHHiVIaqqEpxfi7g/MHN9Vj8zY3y+tG0b7fM9gcfpP+NnntV8LonOuSF4jjjHCH1WR8epKArB0Wp8ZXRd97WwPqtvE/4A3WZLm/qsbwUAAAAASUVORK5CYII=\" y=\"-21.686546\"/>\n   </g>\n   <g id=\"text_9\">\n    <!-- 8 -->\n    <defs>\n     <path d=\"M 31.78125 34.625 \nQ 24.75 34.625 20.71875 30.859375 \nQ 16.703125 27.09375 16.703125 20.515625 \nQ 16.703125 13.921875 20.71875 10.15625 \nQ 24.75 6.390625 31.78125 6.390625 \nQ 38.8125 6.390625 42.859375 10.171875 \nQ 46.921875 13.96875 46.921875 20.515625 \nQ 46.921875 27.09375 42.890625 30.859375 \nQ 38.875 34.625 31.78125 34.625 \nz\nM 21.921875 38.8125 \nQ 15.578125 40.375 12.03125 44.71875 \nQ 8.5 49.078125 8.5 55.328125 \nQ 8.5 64.0625 14.71875 69.140625 \nQ 20.953125 74.21875 31.78125 74.21875 \nQ 42.671875 74.21875 48.875 69.140625 \nQ 55.078125 64.0625 55.078125 55.328125 \nQ 55.078125 49.078125 51.53125 44.71875 \nQ 48 40.375 41.703125 38.8125 \nQ 48.828125 37.15625 52.796875 32.3125 \nQ 56.78125 27.484375 56.78125 20.515625 \nQ 56.78125 9.90625 50.3125 4.234375 \nQ 43.84375 -1.421875 31.78125 -1.421875 \nQ 19.734375 -1.421875 13.25 4.234375 \nQ 6.78125 9.90625 6.78125 20.515625 \nQ 6.78125 27.484375 10.78125 32.3125 \nQ 14.796875 37.15625 21.921875 38.8125 \nz\nM 18.3125 54.390625 \nQ 18.3125 48.734375 21.84375 45.5625 \nQ 25.390625 42.390625 31.78125 42.390625 \nQ 38.140625 42.390625 41.71875 45.5625 \nQ 45.3125 48.734375 45.3125 54.390625 \nQ 45.3125 60.0625 41.71875 63.234375 \nQ 38.140625 66.40625 31.78125 66.40625 \nQ 25.390625 66.40625 21.84375 63.234375 \nQ 18.3125 60.0625 18.3125 54.390625 \nz\n\" id=\"DejaVuSans-56\"/>\n    </defs>\n    <g transform=\"translate(300.003553 16.318125)scale(0.12 -0.12)\">\n     <use xlink:href=\"#DejaVuSans-56\"/>\n    </g>\n   </g>\n  </g>\n  <g id=\"axes_10\">\n   <g clip-path=\"url(#p4f06749acf)\">\n    <image height=\"30\" id=\"image6d023b512a\" transform=\"scale(1 -1)translate(0 -30)\" width=\"30\" x=\"324.378947\" xlink:href=\"data:image/png;base64,\niVBORw0KGgoAAAANSUhEUgAAAB4AAAAeCAYAAAA7MK6iAAAABHNCSVQICAgIfAhkiAAAAM5JREFUSIntl9ENwyAMREnVQWCCMAIjsAmMlBEyQkaADdgg2YD+RfZJcdVKVanc++JkBUv3Ykim3ns3F8o5M19KYf44DuaXZTnX3vurbY0xxtzE6gelr/EkMX4mfAco43VdWS2EwLy+qH+DMc4xzipl3lpjNWSuL+q7VMQoa63Mp5SYp+OEWFD6oh6HMb3qkOm+78zHGC83ttaKjfVFPQ5jPOqokClylJ5F6Yt6nGuRcnLOvbTZPM/n+n9Wo8QvEBwf/HPYtu3txvqi/lrjB4sEULpe5TYAAAAAAElFTkSuQmCC\" y=\"-21.686546\"/>\n   </g>\n   <g id=\"text_10\">\n    <!-- 9 -->\n    <defs>\n     <path d=\"M 10.984375 1.515625 \nL 10.984375 10.5 \nQ 14.703125 8.734375 18.5 7.8125 \nQ 22.3125 6.890625 25.984375 6.890625 \nQ 35.75 6.890625 40.890625 13.453125 \nQ 46.046875 20.015625 46.78125 33.40625 \nQ 43.953125 29.203125 39.59375 26.953125 \nQ 35.25 24.703125 29.984375 24.703125 \nQ 19.046875 24.703125 12.671875 31.3125 \nQ 6.296875 37.9375 6.296875 49.421875 \nQ 6.296875 60.640625 12.9375 67.421875 \nQ 19.578125 74.21875 30.609375 74.21875 \nQ 43.265625 74.21875 49.921875 64.515625 \nQ 56.59375 54.828125 56.59375 36.375 \nQ 56.59375 19.140625 48.40625 8.859375 \nQ 40.234375 -1.421875 26.421875 -1.421875 \nQ 22.703125 -1.421875 18.890625 -0.6875 \nQ 15.09375 0.046875 10.984375 1.515625 \nz\nM 30.609375 32.421875 \nQ 37.25 32.421875 41.125 36.953125 \nQ 45.015625 41.5 45.015625 49.421875 \nQ 45.015625 57.28125 41.125 61.84375 \nQ 37.25 66.40625 30.609375 66.40625 \nQ 23.96875 66.40625 20.09375 61.84375 \nQ 16.21875 57.28125 16.21875 49.421875 \nQ 16.21875 41.5 20.09375 36.953125 \nQ 23.96875 32.421875 30.609375 32.421875 \nz\n\" id=\"DejaVuSans-57\"/>\n    </defs>\n    <g transform=\"translate(335.245658 16.318125)scale(0.12 -0.12)\">\n     <use xlink:href=\"#DejaVuSans-57\"/>\n    </g>\n   </g>\n  </g>\n  <g id=\"axes_11\">\n   <g clip-path=\"url(#p8a12faf50a)\">\n    <image height=\"30\" id=\"image2c21591ee1\" transform=\"scale(1 -1)translate(0 -30)\" width=\"30\" x=\"359.621053\" xlink:href=\"data:image/png;base64,\niVBORw0KGgoAAAANSUhEUgAAAB4AAAAeCAYAAAA7MK6iAAAABHNCSVQICAgIfAhkiAAAANJJREFUSIntVsENgzAMNFX/YQRGyAZhA1bICIzAKGSDrMAGGSUbpD9kXxv304pI4V45TLB0p8MeSimFKsg5C76uq+ApJcH3fT/P1traZ4mI6KFW/4j+Gg+ax/M8q5enaarWuN+f0J/UlzV+4gOe3eM4RC3GKLhzTnDv/XnGjGOub6nfJOIwxgg+jqPgXE605Za6HY+/jbNfoT+p2/EY1x0OHHU4NrW7iP6kbsdjvs4syyJqIYTqu0Ty/7xtm9q4P6nVLRPjgfJp8cKxiOhP6ssavwCF+kMl6zQpdAAAAABJRU5ErkJggg==\" y=\"-21.686546\"/>\n   </g>\n   <g id=\"text_11\">\n    <!-- 0 -->\n    <g transform=\"translate(370.487763 16.318125)scale(0.12 -0.12)\">\n     <use xlink:href=\"#DejaVuSans-48\"/>\n    </g>\n   </g>\n  </g>\n  <g id=\"axes_12\">\n   <g clip-path=\"url(#pcd582e0b5e)\">\n    <image height=\"30\" id=\"image09cf395f77\" transform=\"scale(1 -1)translate(0 -30)\" width=\"30\" x=\"394.863158\" xlink:href=\"data:image/png;base64,\niVBORw0KGgoAAAANSUhEUgAAAB4AAAAeCAYAAAA7MK6iAAAABHNCSVQICAgIfAhkiAAAAMlJREFUSIntV8ENhCAQXC9XAB1oJ1ACJVCCrdEBdgAVgBUIFXA/4m7uiCQmnsF57WTJTjLDGhxyzhkOIsaIuBACcedcqbdtQz3GGOKvo6Jnoz/hd8thay3i+0wBAMZxLDXNlKI/q++RcUqp2qd7XsNjNVqZeZ5RL4RQHaaUOizcn9X/k/E0TV9rAIBlWarD6Ce1hv6svkx4aHn60MzXdUWcc15qY0x1Vn9W3yNjrTXiUsqfZ733iNP78VjdBGrf/mVJ1+n5k7hM+APJXEA30aYYhwAAAABJRU5ErkJggg==\" y=\"-21.686546\"/>\n   </g>\n   <g id=\"text_12\">\n    <!-- 1 -->\n    <g transform=\"translate(405.729868 16.318125)scale(0.12 -0.12)\">\n     <use xlink:href=\"#DejaVuSans-49\"/>\n    </g>\n   </g>\n  </g>\n  <g id=\"axes_13\">\n   <g clip-path=\"url(#p859784fa2f)\">\n    <image height=\"30\" id=\"image51df276a56\" transform=\"scale(1 -1)translate(0 -30)\" width=\"30\" x=\"430.105263\" xlink:href=\"data:image/png;base64,\niVBORw0KGgoAAAANSUhEUgAAAB4AAAAeCAYAAAA7MK6iAAAABHNCSVQICAgIfAhkiAAAAM9JREFUSIntV0ENxCAQLJcTgAOQUEmVgAQcYAEJxQESKqEOigPuR5hJyl0fzZHQee2ENJvMZHa3IuecpxNs2wbcWgt8nmfg67qWWkrZ/PZ11vRujNf43Xr03gMPIQCPMQJflqXU7LHWGvh4Uv+tsWjlmMGeG2OAp5R+bvxIDdj3HThHQggB/DiOUnOcGONJ3c/IrH3lVcZxUkoB/+ZrjfGk7sfjOqt8+vBI5FxfwXhS9+NxDZ7VfM7yWryC8aRurkW+Kp1zwOs/h2l6RmanjT8FoUNhpOzIpQAAAABJRU5ErkJggg==\" y=\"-21.686546\"/>\n   </g>\n   <g id=\"text_13\">\n    <!-- 2 -->\n    <g transform=\"translate(440.971974 16.318125)scale(0.12 -0.12)\">\n     <use xlink:href=\"#DejaVuSans-50\"/>\n    </g>\n   </g>\n  </g>\n  <g id=\"axes_14\">\n   <g clip-path=\"url(#p9d7b7e5a36)\">\n    <image height=\"30\" id=\"image33aede1103\" transform=\"scale(1 -1)translate(0 -30)\" width=\"30\" x=\"465.347368\" xlink:href=\"data:image/png;base64,\niVBORw0KGgoAAAANSUhEUgAAAB4AAAAeCAYAAAA7MK6iAAAABHNCSVQICAgIfAhkiAAAAN5JREFUSIntVsENgzAQO6oOwAiMwAiMwAhsAKPABKzACGGDsAEbJBukv9OdWwXxqAq6+mXrgiLZmKNIKSUS2Pededd1lEOMUemqqpgvy5J99pGdfhH2Li4wY5nbuq7qcAhB6XEcld62jfk8z2qG74s9q6+T8RnIzhMR1XXNHHvcNI3S9qx+njmcs5ZI24nWIuxZfY86tW2rtPdeaeccc7kiP8Ge1ffo8VHGstcyb5wRWbT6OhnLbIZhUDPMGPU0TcxxLf4zfrNafupwteFfZVmWSvd9zxxjQNiz+mcXvwA/jE6hqM65JgAAAABJRU5ErkJggg==\" y=\"-21.686546\"/>\n   </g>\n   <g id=\"text_14\">\n    <!-- 3 -->\n    <g transform=\"translate(476.214079 16.318125)scale(0.12 -0.12)\">\n     <use xlink:href=\"#DejaVuSans-51\"/>\n    </g>\n   </g>\n  </g>\n  <g id=\"axes_15\">\n   <g clip-path=\"url(#p5cc66bab08)\">\n    <image height=\"30\" id=\"imagee74997905a\" transform=\"scale(1 -1)translate(0 -30)\" width=\"30\" x=\"500.589474\" xlink:href=\"data:image/png;base64,\niVBORw0KGgoAAAANSUhEUgAAAB4AAAAeCAYAAAA7MK6iAAAABHNCSVQICAgIfAhkiAAAAOJJREFUSIntVsENhCAQxMv90Q7oQEugA0qQEizBEihBO9AO6ABaoAM64H6EXSPB5BJNcF47LDDJbHahCSEEUggpJeDbtp1yznn2rk+p6L9Rn3Bzpcbee8C7rgN8HMcYL8uSvas+q28T/uKFtI7TNIEc7lsMrXWx8Gs1mec5xuu6glzf94Dj9nLOxXjfd5ATQgBen9XPqTFj7HQzfhYxT0eoMQbk3ho/p8bpmLTWglza44QcvzeU0tOzGPVZ/cyvD57FwzAA3rYt4LlnEe+tz+pDO6XA9uARqZQqPotRn9W3Cf8AwptFBQJ68mQAAAAASUVORK5CYII=\" y=\"-21.686546\"/>\n   </g>\n   <g id=\"text_15\">\n    <!-- 4 -->\n    <g transform=\"translate(511.456184 16.318125)scale(0.12 -0.12)\">\n     <use xlink:href=\"#DejaVuSans-52\"/>\n    </g>\n   </g>\n  </g>\n  <g id=\"axes_16\">\n   <g clip-path=\"url(#p5c17c64fae)\">\n    <image height=\"30\" id=\"imageb6bc0cbd85\" transform=\"scale(1 -1)translate(0 -30)\" width=\"30\" x=\"535.831579\" xlink:href=\"data:image/png;base64,\niVBORw0KGgoAAAANSUhEUgAAAB4AAAAeCAYAAAA7MK6iAAAABHNCSVQICAgIfAhkiAAAAN5JREFUSInlV8ENgzAMNFX3gBEyAiOwQWZhAhghI4QNwgQkEyA2gAnSX2S7FCiq1Ei+1zkxtnQnR6aIMUZAcM4l3jQNvoJt20g8zzOJq6qCq3hczvwx5DUuuMfruiY+jiNJ1lqTmHvqvb/cWJ7U+Xh8hGEYSMznfJqmxJVSh7XkSf3kB3icrLVfFTuTF0Oe1Pl43Pd94m3bHn5cluXtxvKkzsdjDO4hn1NjzO3G8qTOx2O8vizLQu7wOw5AZx4AoK7rXb4HeVK/bSB4y+i6jiRzqUMIHwuf/WXIk/pvjV9B4EsRDJhH+QAAAABJRU5ErkJggg==\" y=\"-21.686546\"/>\n   </g>\n   <g id=\"text_16\">\n    <!-- 5 -->\n    <g transform=\"translate(546.698289 16.318125)scale(0.12 -0.12)\">\n     <use xlink:href=\"#DejaVuSans-53\"/>\n    </g>\n   </g>\n  </g>\n </g>\n <defs>\n  <clipPath id=\"ped21db04b4\">\n   <rect height=\"29.368421\" width=\"29.368421\" x=\"7.2\" y=\"22.318125\"/>\n  </clipPath>\n  <clipPath id=\"p96283e9ee6\">\n   <rect height=\"29.368421\" width=\"29.368421\" x=\"42.442105\" y=\"22.318125\"/>\n  </clipPath>\n  <clipPath id=\"p9f1c76e6b1\">\n   <rect height=\"29.368421\" width=\"29.368421\" x=\"77.684211\" y=\"22.318125\"/>\n  </clipPath>\n  <clipPath id=\"pf0141bed4e\">\n   <rect height=\"29.368421\" width=\"29.368421\" x=\"112.926316\" y=\"22.318125\"/>\n  </clipPath>\n  <clipPath id=\"paf0b865cc5\">\n   <rect height=\"29.368421\" width=\"29.368421\" x=\"148.168421\" y=\"22.318125\"/>\n  </clipPath>\n  <clipPath id=\"pa37cf21207\">\n   <rect height=\"29.368421\" width=\"29.368421\" x=\"183.410526\" y=\"22.318125\"/>\n  </clipPath>\n  <clipPath id=\"p670d00a8bb\">\n   <rect height=\"29.368421\" width=\"29.368421\" x=\"218.652632\" y=\"22.318125\"/>\n  </clipPath>\n  <clipPath id=\"p061d1bfb67\">\n   <rect height=\"29.368421\" width=\"29.368421\" x=\"253.894737\" y=\"22.318125\"/>\n  </clipPath>\n  <clipPath id=\"p055229af1b\">\n   <rect height=\"29.368421\" width=\"29.368421\" x=\"289.136842\" y=\"22.318125\"/>\n  </clipPath>\n  <clipPath id=\"p4f06749acf\">\n   <rect height=\"29.368421\" width=\"29.368421\" x=\"324.378947\" y=\"22.318125\"/>\n  </clipPath>\n  <clipPath id=\"p8a12faf50a\">\n   <rect height=\"29.368421\" width=\"29.368421\" x=\"359.621053\" y=\"22.318125\"/>\n  </clipPath>\n  <clipPath id=\"pcd582e0b5e\">\n   <rect height=\"29.368421\" width=\"29.368421\" x=\"394.863158\" y=\"22.318125\"/>\n  </clipPath>\n  <clipPath id=\"p859784fa2f\">\n   <rect height=\"29.368421\" width=\"29.368421\" x=\"430.105263\" y=\"22.318125\"/>\n  </clipPath>\n  <clipPath id=\"p9d7b7e5a36\">\n   <rect height=\"29.368421\" width=\"29.368421\" x=\"465.347368\" y=\"22.318125\"/>\n  </clipPath>\n  <clipPath id=\"p5cc66bab08\">\n   <rect height=\"29.368421\" width=\"29.368421\" x=\"500.589474\" y=\"22.318125\"/>\n  </clipPath>\n  <clipPath id=\"p5c17c64fae\">\n   <rect height=\"29.368421\" width=\"29.368421\" x=\"535.831579\" y=\"22.318125\"/>\n  </clipPath>\n </defs>\n</svg>\n",
      "image/png": "[encoded data removed]"
     },
     "metadata": {
      "needs_background": "light"
     }
    }
   ],
   "source": [
    "from sklearn import datasets\n",
    "import matplotlib.pyplot as plt\n",
    "\n",
    "digits = datasets.load_digits()\n",
    "\n",
    "_, axes = plt.subplots(nrows=1, ncols=16, figsize=(10, 3))\n",
    "for ax, image, label in zip(axes, digits.images, digits.target):\n",
    "    ax.set_axis_off()\n",
    "    ax.imshow(image, cmap=plt.cm.gray_r, interpolation='nearest')\n",
    "    ax.set_title('%i' % label)"
   ]
  },
  {
   "source": [
    "## Beispiel: Cross-Validation"
   ],
   "cell_type": "markdown",
   "metadata": {}
  },
  {
   "cell_type": "code",
   "execution_count": 9,
   "metadata": {},
   "outputs": [
    {
     "output_type": "stream",
     "name": "stdout",
     "text": [
      "CV-Sore: [0.975      0.95       0.98328691 0.99164345 0.96100279]\nMittelwert: 0.9721866295264624\n"
     ]
    }
   ],
   "source": [
    "from sklearn import svm\n",
    "from sklearn.model_selection import cross_val_score\n",
    "import numpy as np\n",
    "\n",
    "# flatten the images\n",
    "data = digits.images.reshape((len(digits.images), -1))\n",
    "\n",
    "# Erstellen des Support Vector Classifiers\n",
    "clf = svm.SVC(gamma=0.001)\n",
    "\n",
    "# 5-fold Cross-Validation\n",
    "cv_score = cross_val_score(clf, data, digits.target, cv=5)\n",
    "\n",
    "# Auswertung\n",
    "print(\"CV-Score: {}\".format(cv_score))\n",
    "print(\"Mittelwert: {}\".format(np.mean(cv_score)))"
   ]
  },
  {
   "source": [
    "## Beispiel: Hyperparametertuning mit GridSearchCV und SVC"
   ],
   "cell_type": "markdown",
   "metadata": {}
  },
  {
   "source": [
    "from sklearn.model_selection import GridSearchCV\n",
    "from sklearn.svm import SVC\n",
    "import numpy as np\n",
    "\n",
    "# Umformen der Daten\n",
    "data = digits.images.reshape((len(digits.images), -1))\n",
    "\n",
    "# Create a classifier: a support vector classifier\n",
    "svc = SVC()\n",
    "\n",
    "# Setup the hyperparameter grid\n",
    "gamma_space = np.linspace(0.0005, 0.002, 10)\n",
    "param_grid = {'gamma': gamma_space}\n",
    "\n",
    "svc_cv = GridSearchCV(svc, param_grid, cv=5)\n",
    "\n",
    "# Learn the digits on the train subset\n",
    "svc_cv.fit(data, digits.target)\n",
    "\n",
    "# Print the tuned parameters and score\n",
    "print(\"Best Parameters: {}\".format(svc_cv.best_params_))\n",
    "print(\"Best score is {}\".format(svc_cv.best_score_))"
   ],
   "cell_type": "code",
   "metadata": {},
   "execution_count": 14,
   "outputs": [
    {
     "output_type": "stream",
     "name": "stdout",
     "text": [
      "Best Parameters: {'gamma': 0.001}\nBest score is 0.9721866295264624\n"
     ]
    }
   ]
  },
  {
   "source": [
    "## Übungsaufgabe Hyperparameteroptimierung\n",
    "\n",
    "https://scikit-learn.org/stable/modules/generated/sklearn.model_selection.RandomizedSearchCV.html\n",
    "\n",
    "https://scikit-learn.org/stable/modules/generated/sklearn.neighbors.KNeighborsClassifier.html\n",
    "\n"
   ],
   "cell_type": "markdown",
   "metadata": {}
  },
  {
   "cell_type": "code",
   "execution_count": 1,
   "metadata": {},
   "outputs": [
    {
     "output_type": "stream",
     "name": "stdout",
     "text": [
      "Best Parameters: {'leaf_size': 2, 'n_neighbors': 1, 'p': 2}\nBest score is 0.9643933766635715\n"
     ]
    }
   ],
   "source": [
    "# Import der Module\n",
    "import numpy as np\n",
    "\n",
    "from scipy.stats import randint\n",
    "\n",
    "from sklearn import datasets\n",
    "from sklearn.neighbors import KNeighborsClassifier\n",
    "from sklearn.model_selection import RandomizedSearchCV\n",
    "\n",
    "# Umformen der Daten\n",
    "digits = datasets.load_digits()\n",
    "data = digits.images.reshape((len(digits.images), -1))\n",
    "\n",
    "# Erstellen des KNeighborsClassifier Classifiers\n",
    "clf = KNeighborsClassifier()\n",
    "\n",
    "# Setup der Hyperparameter\n",
    "params = {\n",
    "    'n_neighbors': randint(1, 30),\n",
    "    'leaf_size': randint(1, 50),\n",
    "    'p': [1, 2]\n",
    "}\n",
    "\n",
    "# Erstellen der Suche\n",
    "clf_cv = RandomizedSearchCV(clf, params, cv=5)\n",
    "\n",
    "# Ausführen der Suche\n",
    "clf_cv.fit(data, digits.target)\n",
    "\n",
    "# Ausgabe der Ergebnisse\n",
    "print(\"Best Parameters: {}\".format(clf_cv.best_params_))\n",
    "print(\"Best score is {}\".format(clf_cv.best_score_))"
   ]
  },
  {
   "cell_type": "code",
   "execution_count": null,
   "metadata": {},
   "outputs": [],
   "source": []
  }
 ]
}