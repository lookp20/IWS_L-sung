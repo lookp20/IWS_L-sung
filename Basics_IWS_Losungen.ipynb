{
 "cells": [
  {
   "cell_type": "markdown",
   "source": [
    "Bei den Data-Science Basics wird meist Numpy und Pandas vorgestellt.\n",
    "Zu Beginn kann man einfach nur Daten plotten und als Tabellen darstellen.\n",
    "\n",
    "Es wird nicht darauf eingegangen was Variablen, Schleifen und Abfragen sind etc.\n",
    "Bitte lest dies beispielsweise hier nach : https://docs.python.org/3/tutorial/\n",
    "\n",
    "Zunächst das Importieren von Dateien, das ' as ' mit einem Namen dahinter, ist der\n",
    "Aufrufname für diese Library in dieser Datei.\n",
    "\n",
    "Importiere pandas und matplotlib\n",
    "Der Importbefehel lautet import"
   ],
   "metadata": {
    "collapsed": false
   }
  },
  {
   "cell_type": "code",
   "execution_count": null,
   "outputs": [],
   "source": [
    "import pandas as pd\n",
    "import matplotlib.pyplot as plt"
   ],
   "metadata": {
    "collapsed": false,
    "pycharm": {
     "name": "#%%\n"
    }
   }
  },
  {
   "cell_type": "markdown",
   "source": [
    "Laden wir zunächst Daten ein, dafür nutze die Funktion von pandas.\n",
    "Der Befehel dazu lautet read_csv:"
   ],
   "metadata": {
    "collapsed": false,
    "pycharm": {
     "name": "#%% md\n"
    }
   }
  },
  {
   "cell_type": "code",
   "execution_count": null,
   "outputs": [],
   "source": [
    "tierbabys=pd.read_csv('Tierbabys-Testdaten.csv',';')"
   ],
   "metadata": {
    "collapsed": false,
    "pycharm": {
     "name": "#%%\n"
    }
   }
  },
  {
   "cell_type": "markdown",
   "source": [
    "sortiere das Alter der Tiere, verwende dafür sort_values.\n",
    "(Hilfe für den Zugriff auf das Alter, kann das Handbuch geben)."
   ],
   "metadata": {
    "collapsed": false,
    "pycharm": {
     "name": "#%% md\n"
    }
   }
  },
  {
   "cell_type": "code",
   "execution_count": null,
   "outputs": [],
   "source": [
    "sort=tierbabys[\"Alter in Monaten\"].sort_values()"
   ],
   "metadata": {
    "collapsed": false,
    "pycharm": {
     "name": "#%%\n"
    }
   }
  },
  {
   "cell_type": "markdown",
   "source": [
    "und nun gib die Daten aus der Datei aus noch aus, nutze dafür den printbefehel :"
   ],
   "metadata": {
    "collapsed": false,
    "pycharm": {
     "name": "#%% md\n"
    }
   }
  },
  {
   "cell_type": "code",
   "execution_count": null,
   "outputs": [],
   "source": [
    "print(tierbabys)"
   ],
   "metadata": {
    "collapsed": false,
    "pycharm": {
     "name": "#%%\n"
    }
   }
  },
  {
   "cell_type": "markdown",
   "source": [
    "plotte das sortierte Alter in Bezug zur Größe als Punkte und färbe sie grau\n",
    "allgemeine Syntax wäre:\n",
    "plot(x,y, punktstyle, color)"
   ],
   "metadata": {
    "collapsed": false,
    "pycharm": {
     "name": "#%% md\n"
    }
   }
  },
  {
   "cell_type": "code",
   "execution_count": null,
   "outputs": [],
   "source": [
    "plt.plot(sort,tierbabys['Groesse in cm'],'ro', color='gray')"
   ],
   "metadata": {
    "collapsed": false,
    "pycharm": {
     "name": "#%%\n"
    }
   }
  },
  {
   "cell_type": "markdown",
   "source": [
    "überlege dir eine Alternative zu plt.plot zum Beispiel (scatter)\n",
    "Natürlich existieren noch Bar-Charts oder Histogramme"
   ],
   "metadata": {
    "collapsed": false,
    "pycharm": {
     "name": "#%% md\n"
    }
   }
  },
  {
   "cell_type": "code",
   "execution_count": null,
   "outputs": [],
   "source": [
    "plt.scatter(sort,tierbabys['Groesse in cm'], color='gray')"
   ],
   "metadata": {
    "collapsed": false,
    "pycharm": {
     "name": "#%%\n"
    }
   }
  },
  {
   "cell_type": "markdown",
   "source": [
    "füge noch Titel und ylabel so wie x label hinzu"
   ],
   "metadata": {
    "collapsed": false,
    "pycharm": {
     "name": "#%% md\n"
    }
   }
  },
  {
   "cell_type": "code",
   "execution_count": null,
   "outputs": [],
   "source": [
    "plt.title(\"Tiershop\")\n",
    "plt.xlabel(\"Alter in Monaten\")\n",
    "plt.ylabel(\"Größe in Zentimeter\")\n",
    "plt.show()"
   ],
   "metadata": {
    "collapsed": false,
    "pycharm": {
     "name": "#%%\n"
    }
   }
  },
  {
   "cell_type": "markdown",
   "source": [
    "gib mit Hilfe des Punktoperators nur die Namen aus"
   ],
   "metadata": {
    "collapsed": false,
    "pycharm": {
     "name": "#%% md\n"
    }
   }
  },
  {
   "cell_type": "code",
   "execution_count": null,
   "outputs": [],
   "source": [
    "print(tierbabys.Name)"
   ],
   "metadata": {
    "collapsed": false,
    "pycharm": {
     "name": "#%%\n"
    }
   }
  },
  {
   "cell_type": "markdown",
   "source": [
    "Wir haben rausgefunden, dass es ziemliche Ausreißer gibt.\n",
    "Ein neuer Interessent für Bruno ist da, gib nur seine Daten aus und beantworte die Frage,\n",
    "welches Tier es ist und welches Geschlecht er hat"
   ],
   "metadata": {
    "collapsed": false,
    "pycharm": {
     "name": "#%% md\n"
    }
   }
  },
  {
   "cell_type": "code",
   "execution_count": null,
   "outputs": [],
   "source": [
    "bruno= tierbabys[tierbabys.Name==\"Bruno\"]\n",
    "print(bruno)"
   ],
   "metadata": {
    "collapsed": false,
    "pycharm": {
     "name": "#%%\n"
    }
   }
  },
  {
   "cell_type": "markdown",
   "source": [
    "Nun etwas mehr zu pandas.\n",
    "Man kann in Dataframes slicen.\n",
    "Dafür hilft wieder das Handbuch."
   ],
   "metadata": {
    "collapsed": false,
    "pycharm": {
     "name": "#%% md\n"
    }
   }
  },
  {
   "cell_type": "code",
   "execution_count": null,
   "outputs": [],
   "source": [
    "slice=tierbabys[1:3]\n",
    "print(slice)"
   ],
   "metadata": {
    "collapsed": false,
    "pycharm": {
     "name": "#%%\n"
    }
   }
  },
  {
   "cell_type": "markdown",
   "source": [
    "berechne den durchschnitt vom Alter mit Hilfe von mean und gib das erneut aus."
   ],
   "metadata": {
    "collapsed": false,
    "pycharm": {
     "name": "#%% md\n"
    }
   }
  },
  {
   "cell_type": "code",
   "execution_count": null,
   "outputs": [],
   "source": [
    "groesseDurchschnitt=tierbabys[\"Groesse in cm\"].mean()\n",
    "print(groesseDurchschnitt)"
   ],
   "metadata": {
    "collapsed": false,
    "pycharm": {
     "name": "#%%\n"
    }
   }
  },
  {
   "cell_type": "markdown",
   "source": [
    "Schließlich möchten wir mit Hilfe von describe die Statistik ausgeben"
   ],
   "metadata": {
    "collapsed": false,
    "pycharm": {
     "name": "#%% md\n"
    }
   }
  },
  {
   "cell_type": "code",
   "execution_count": null,
   "outputs": [],
   "source": [
    "statistik=tierbabys.describe()\n",
    "print(statistik)\n"
   ],
   "metadata": {
    "collapsed": false,
    "pycharm": {
     "name": "#%%\n"
    }
   }
  }
 ],
 "metadata": {
  "kernelspec": {
   "display_name": "Python 3",
   "language": "python",
   "name": "python3"
  },
  "language_info": {
   "codemirror_mode": {
    "name": "ipython",
    "version": 2
   },
   "file_extension": ".py",
   "mimetype": "text/x-python",
   "name": "python",
   "nbconvert_exporter": "python",
   "pygments_lexer": "ipython2",
   "version": "2.7.6"
  }
 },
 "nbformat": 4,
 "nbformat_minor": 0
}
