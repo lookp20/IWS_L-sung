{
 "metadata": {
  "language_info": {
   "codemirror_mode": {
    "name": "ipython",
    "version": 3
   },
   "file_extension": ".py",
   "mimetype": "text/x-python",
   "name": "python",
   "nbconvert_exporter": "python",
   "pygments_lexer": "ipython3",
   "version": "3.7.4"
  },
  "orig_nbformat": 2,
  "kernelspec": {
   "name": "python3",
   "display_name": "Python 3",
   "language": "python"
  }
 },
 "nbformat": 4,
 "nbformat_minor": 2,
 "cells": [
  {
   "source": [
    "## Import des Packages"
   ],
   "cell_type": "markdown",
   "metadata": {}
  },
  {
   "cell_type": "code",
   "execution_count": 46,
   "metadata": {},
   "outputs": [],
   "source": [
    "import pandas as pd\n",
    "import numpy as np\n",
    "from functions import *\n",
    "from sklearn.model_selection import train_test_split"
   ]
  },
  {
   "source": [
    "## Lade Daten"
   ],
   "cell_type": "markdown",
   "metadata": {}
  },
  {
   "cell_type": "code",
   "execution_count": 47,
   "metadata": {},
   "outputs": [
    {
     "output_type": "execute_result",
     "data": {
      "text/plain": [
       "       age          job  marital            education  default housing loan  \\\n",
       "0       56    housemaid  married             basic.4y       no      no   no   \n",
       "1       57     services  married          high.school  unknown      no   no   \n",
       "2       37     services  married          high.school       no     yes   no   \n",
       "3       40       admin.  married             basic.6y       no      no   no   \n",
       "4       56     services  married          high.school       no      no  yes   \n",
       "...    ...          ...      ...                  ...      ...     ...  ...   \n",
       "41183   73      retired  married  professional.course       no     yes   no   \n",
       "41184   46  blue-collar  married  professional.course       no      no   no   \n",
       "41185   56      retired  married    university.degree       no     yes   no   \n",
       "41186   44   technician  married  professional.course       no      no   no   \n",
       "41187   74      retired  married  professional.course       no     yes   no   \n",
       "\n",
       "         contact month day_of_week  ...  campaign  pdays  previous  \\\n",
       "0      telephone   may         mon  ...         1    999         0   \n",
       "1      telephone   may         mon  ...         1    999         0   \n",
       "2      telephone   may         mon  ...         1    999         0   \n",
       "3      telephone   may         mon  ...         1    999         0   \n",
       "4      telephone   may         mon  ...         1    999         0   \n",
       "...          ...   ...         ...  ...       ...    ...       ...   \n",
       "41183   cellular   nov         fri  ...         1    999         0   \n",
       "41184   cellular   nov         fri  ...         1    999         0   \n",
       "41185   cellular   nov         fri  ...         2    999         0   \n",
       "41186   cellular   nov         fri  ...         1    999         0   \n",
       "41187   cellular   nov         fri  ...         3    999         1   \n",
       "\n",
       "          poutcome emp.var.rate  cons.price.idx  cons.conf.idx  euribor3m  \\\n",
       "0      nonexistent          1.1          93.994          -36.4      4.857   \n",
       "1      nonexistent          1.1          93.994          -36.4      4.857   \n",
       "2      nonexistent          1.1          93.994          -36.4      4.857   \n",
       "3      nonexistent          1.1          93.994          -36.4      4.857   \n",
       "4      nonexistent          1.1          93.994          -36.4      4.857   \n",
       "...            ...          ...             ...            ...        ...   \n",
       "41183  nonexistent         -1.1          94.767          -50.8      1.028   \n",
       "41184  nonexistent         -1.1          94.767          -50.8      1.028   \n",
       "41185  nonexistent         -1.1          94.767          -50.8      1.028   \n",
       "41186  nonexistent         -1.1          94.767          -50.8      1.028   \n",
       "41187      failure         -1.1          94.767          -50.8      1.028   \n",
       "\n",
       "       nr.employed    y  \n",
       "0           5191.0   no  \n",
       "1           5191.0   no  \n",
       "2           5191.0   no  \n",
       "3           5191.0   no  \n",
       "4           5191.0   no  \n",
       "...            ...  ...  \n",
       "41183       4963.6  yes  \n",
       "41184       4963.6   no  \n",
       "41185       4963.6   no  \n",
       "41186       4963.6  yes  \n",
       "41187       4963.6   no  \n",
       "\n",
       "[41188 rows x 21 columns]"
      ],
      "text/html": "<div>\n<style scoped>\n    .dataframe tbody tr th:only-of-type {\n        vertical-align: middle;\n    }\n\n    .dataframe tbody tr th {\n        vertical-align: top;\n    }\n\n    .dataframe thead th {\n        text-align: right;\n    }\n</style>\n<table border=\"1\" class=\"dataframe\">\n  <thead>\n    <tr style=\"text-align: right;\">\n      <th></th>\n      <th>age</th>\n      <th>job</th>\n      <th>marital</th>\n      <th>education</th>\n      <th>default</th>\n      <th>housing</th>\n      <th>loan</th>\n      <th>contact</th>\n      <th>month</th>\n      <th>day_of_week</th>\n      <th>...</th>\n      <th>campaign</th>\n      <th>pdays</th>\n      <th>previous</th>\n      <th>poutcome</th>\n      <th>emp.var.rate</th>\n      <th>cons.price.idx</th>\n      <th>cons.conf.idx</th>\n      <th>euribor3m</th>\n      <th>nr.employed</th>\n      <th>y</th>\n    </tr>\n  </thead>\n  <tbody>\n    <tr>\n      <td>0</td>\n      <td>56</td>\n      <td>housemaid</td>\n      <td>married</td>\n      <td>basic.4y</td>\n      <td>no</td>\n      <td>no</td>\n      <td>no</td>\n      <td>telephone</td>\n      <td>may</td>\n      <td>mon</td>\n      <td>...</td>\n      <td>1</td>\n      <td>999</td>\n      <td>0</td>\n      <td>nonexistent</td>\n      <td>1.1</td>\n      <td>93.994</td>\n      <td>-36.4</td>\n      <td>4.857</td>\n      <td>5191.0</td>\n      <td>no</td>\n    </tr>\n    <tr>\n      <td>1</td>\n      <td>57</td>\n      <td>services</td>\n      <td>married</td>\n      <td>high.school</td>\n      <td>unknown</td>\n      <td>no</td>\n      <td>no</td>\n      <td>telephone</td>\n      <td>may</td>\n      <td>mon</td>\n      <td>...</td>\n      <td>1</td>\n      <td>999</td>\n      <td>0</td>\n      <td>nonexistent</td>\n      <td>1.1</td>\n      <td>93.994</td>\n      <td>-36.4</td>\n      <td>4.857</td>\n      <td>5191.0</td>\n      <td>no</td>\n    </tr>\n    <tr>\n      <td>2</td>\n      <td>37</td>\n      <td>services</td>\n      <td>married</td>\n      <td>high.school</td>\n      <td>no</td>\n      <td>yes</td>\n      <td>no</td>\n      <td>telephone</td>\n      <td>may</td>\n      <td>mon</td>\n      <td>...</td>\n      <td>1</td>\n      <td>999</td>\n      <td>0</td>\n      <td>nonexistent</td>\n      <td>1.1</td>\n      <td>93.994</td>\n      <td>-36.4</td>\n      <td>4.857</td>\n      <td>5191.0</td>\n      <td>no</td>\n    </tr>\n    <tr>\n      <td>3</td>\n      <td>40</td>\n      <td>admin.</td>\n      <td>married</td>\n      <td>basic.6y</td>\n      <td>no</td>\n      <td>no</td>\n      <td>no</td>\n      <td>telephone</td>\n      <td>may</td>\n      <td>mon</td>\n      <td>...</td>\n      <td>1</td>\n      <td>999</td>\n      <td>0</td>\n      <td>nonexistent</td>\n      <td>1.1</td>\n      <td>93.994</td>\n      <td>-36.4</td>\n      <td>4.857</td>\n      <td>5191.0</td>\n      <td>no</td>\n    </tr>\n    <tr>\n      <td>4</td>\n      <td>56</td>\n      <td>services</td>\n      <td>married</td>\n      <td>high.school</td>\n      <td>no</td>\n      <td>no</td>\n      <td>yes</td>\n      <td>telephone</td>\n      <td>may</td>\n      <td>mon</td>\n      <td>...</td>\n      <td>1</td>\n      <td>999</td>\n      <td>0</td>\n      <td>nonexistent</td>\n      <td>1.1</td>\n      <td>93.994</td>\n      <td>-36.4</td>\n      <td>4.857</td>\n      <td>5191.0</td>\n      <td>no</td>\n    </tr>\n    <tr>\n      <td>...</td>\n      <td>...</td>\n      <td>...</td>\n      <td>...</td>\n      <td>...</td>\n      <td>...</td>\n      <td>...</td>\n      <td>...</td>\n      <td>...</td>\n      <td>...</td>\n      <td>...</td>\n      <td>...</td>\n      <td>...</td>\n      <td>...</td>\n      <td>...</td>\n      <td>...</td>\n      <td>...</td>\n      <td>...</td>\n      <td>...</td>\n      <td>...</td>\n      <td>...</td>\n      <td>...</td>\n    </tr>\n    <tr>\n      <td>41183</td>\n      <td>73</td>\n      <td>retired</td>\n      <td>married</td>\n      <td>professional.course</td>\n      <td>no</td>\n      <td>yes</td>\n      <td>no</td>\n      <td>cellular</td>\n      <td>nov</td>\n      <td>fri</td>\n      <td>...</td>\n      <td>1</td>\n      <td>999</td>\n      <td>0</td>\n      <td>nonexistent</td>\n      <td>-1.1</td>\n      <td>94.767</td>\n      <td>-50.8</td>\n      <td>1.028</td>\n      <td>4963.6</td>\n      <td>yes</td>\n    </tr>\n    <tr>\n      <td>41184</td>\n      <td>46</td>\n      <td>blue-collar</td>\n      <td>married</td>\n      <td>professional.course</td>\n      <td>no</td>\n      <td>no</td>\n      <td>no</td>\n      <td>cellular</td>\n      <td>nov</td>\n      <td>fri</td>\n      <td>...</td>\n      <td>1</td>\n      <td>999</td>\n      <td>0</td>\n      <td>nonexistent</td>\n      <td>-1.1</td>\n      <td>94.767</td>\n      <td>-50.8</td>\n      <td>1.028</td>\n      <td>4963.6</td>\n      <td>no</td>\n    </tr>\n    <tr>\n      <td>41185</td>\n      <td>56</td>\n      <td>retired</td>\n      <td>married</td>\n      <td>university.degree</td>\n      <td>no</td>\n      <td>yes</td>\n      <td>no</td>\n      <td>cellular</td>\n      <td>nov</td>\n      <td>fri</td>\n      <td>...</td>\n      <td>2</td>\n      <td>999</td>\n      <td>0</td>\n      <td>nonexistent</td>\n      <td>-1.1</td>\n      <td>94.767</td>\n      <td>-50.8</td>\n      <td>1.028</td>\n      <td>4963.6</td>\n      <td>no</td>\n    </tr>\n    <tr>\n      <td>41186</td>\n      <td>44</td>\n      <td>technician</td>\n      <td>married</td>\n      <td>professional.course</td>\n      <td>no</td>\n      <td>no</td>\n      <td>no</td>\n      <td>cellular</td>\n      <td>nov</td>\n      <td>fri</td>\n      <td>...</td>\n      <td>1</td>\n      <td>999</td>\n      <td>0</td>\n      <td>nonexistent</td>\n      <td>-1.1</td>\n      <td>94.767</td>\n      <td>-50.8</td>\n      <td>1.028</td>\n      <td>4963.6</td>\n      <td>yes</td>\n    </tr>\n    <tr>\n      <td>41187</td>\n      <td>74</td>\n      <td>retired</td>\n      <td>married</td>\n      <td>professional.course</td>\n      <td>no</td>\n      <td>yes</td>\n      <td>no</td>\n      <td>cellular</td>\n      <td>nov</td>\n      <td>fri</td>\n      <td>...</td>\n      <td>3</td>\n      <td>999</td>\n      <td>1</td>\n      <td>failure</td>\n      <td>-1.1</td>\n      <td>94.767</td>\n      <td>-50.8</td>\n      <td>1.028</td>\n      <td>4963.6</td>\n      <td>no</td>\n    </tr>\n  </tbody>\n</table>\n<p>41188 rows × 21 columns</p>\n</div>"
     },
     "metadata": {},
     "execution_count": 47
    }
   ],
   "source": [
    "path = '/Users/lookphanthavong/Documents/VisualStudioCode/IWS/bank-additional-full.csv'\n",
    "df = pd.read_csv(path, \";\")\n",
    "df"
   ]
  },
  {
   "source": [
    "#### Übersicht der Attribute"
   ],
   "cell_type": "markdown",
   "metadata": {}
  },
  {
   "cell_type": "code",
   "execution_count": 48,
   "metadata": {},
   "outputs": [
    {
     "output_type": "stream",
     "name": "stdout",
     "text": [
      "Attribute ->  Index(['age', 'job', 'marital', 'education', 'default', 'housing', 'loan',\n       'contact', 'month', 'day_of_week', 'duration', 'campaign', 'pdays',\n       'previous', 'poutcome', 'emp.var.rate', 'cons.price.idx',\n       'cons.conf.idx', 'euribor3m', 'nr.employed', 'y'],\n      dtype='object')\n"
     ]
    }
   ],
   "source": [
    "print(\"Attribute -> \", df.columns)"
   ]
  },
  {
   "source": [
    "#### Übersicht Zielvariable"
   ],
   "cell_type": "markdown",
   "metadata": {}
  },
  {
   "cell_type": "code",
   "execution_count": 49,
   "metadata": {},
   "outputs": [
    {
     "output_type": "stream",
     "name": "stdout",
     "text": [
      "Anteil y=no:  0.89\nAnteil y=yes:  0.11\n"
     ]
    }
   ],
   "source": [
    "dict_y = {\"no\":0, \"yes\":1}\n",
    "df = df.replace(dict_y)\n",
    "y_count = df.y.value_counts()\n",
    "print(\"Anteil y=no: \", '{:.2f}'.format(y_count[0]/ (y_count[0]+y_count[1])))\n",
    "print(\"Anteil y=yes: \", '{:.2f}'.format(y_count[1]/ (y_count[0]+y_count[1])))"
   ]
  },
  {
   "source": [
    "#### Übersicht fehlender Werte"
   ],
   "cell_type": "markdown",
   "metadata": {}
  },
  {
   "cell_type": "code",
   "execution_count": 50,
   "metadata": {},
   "outputs": [
    {
     "output_type": "stream",
     "name": "stdout",
     "text": [
      "job:  330 \n\nmarital:  80 \n\neducation:  1731 \n\ndefault:  8597 \n\nhousing:  990 \n\nloan:  990 \n\nSumme:  12718\nLöschen der Missing Values: 41188 - 12718 =  28470\nProzentualer Verlust:  30.88 %\n"
     ]
    }
   ],
   "source": [
    "missing_stats(df)"
   ]
  },
  {
   "source": [
    "#### Lösche fehlende Werte -> Keine optimale Lösung, wegen Informationsverlust"
   ],
   "cell_type": "markdown",
   "metadata": {}
  },
  {
   "cell_type": "code",
   "execution_count": 51,
   "metadata": {},
   "outputs": [],
   "source": [
    "df = df[df.default != \"unknown\"]\n",
    "df = df[df.education != \"unknown\"]\n",
    "df = df[df.loan != \"unknown\"]\n",
    "df = df[df.job != \"unknown\"]\n",
    "df = df[df.marital != \"unknown\"]"
   ]
  },
  {
   "cell_type": "code",
   "execution_count": 52,
   "metadata": {},
   "outputs": [
    {
     "output_type": "stream",
     "name": "stdout",
     "text": [
      "Summe:  0\nLöschen der Missing Values: 30488 - 0 =  30488\nProzentualer Verlust:  0.00 %\n"
     ]
    }
   ],
   "source": [
    "missing_stats(df)"
   ]
  },
  {
   "source": [
    "#### Übersicht der Zielvariable nach Löschen der fehlenden Werte"
   ],
   "cell_type": "markdown",
   "metadata": {}
  },
  {
   "cell_type": "code",
   "execution_count": 53,
   "metadata": {},
   "outputs": [
    {
     "output_type": "stream",
     "name": "stdout",
     "text": [
      "Anteil y=no:  0.87\nAnteil y=yes:  0.13\n"
     ]
    }
   ],
   "source": [
    "y_count = df.y.value_counts()\n",
    "print(\"Anteil y=no: \", '{:.2f}'.format(y_count[0]/ (y_count[0]+y_count[1])))\n",
    "print(\"Anteil y=yes: \", '{:.2f}'.format(y_count[1]/ (y_count[0]+y_count[1])))"
   ]
  },
  {
   "source": [
    "#### Übersicht der nominalen Attribute"
   ],
   "cell_type": "markdown",
   "metadata": {}
  },
  {
   "cell_type": "code",
   "execution_count": 54,
   "metadata": {},
   "outputs": [
    {
     "output_type": "stream",
     "name": "stdout",
     "text": [
      "job->  11\nmarital->  3\neducation->  7\ncontact->  2\nmonth->  10\nday_of_week->  5\npoutcome->  3\n"
     ]
    }
   ],
   "source": [
    "nom_attributes = []\n",
    "for item in df.columns:\n",
    "    if type(df[item][0]) == str:\n",
    "        nom_attributes += [item]\n",
    "        print(item + \"-> \", len(df[item].unique()))"
   ]
  },
  {
   "source": [
    "#### Erstelle Dummies"
   ],
   "cell_type": "markdown",
   "metadata": {}
  },
  {
   "cell_type": "code",
   "execution_count": 55,
   "metadata": {},
   "outputs": [
    {
     "output_type": "stream",
     "name": "stdout",
     "text": [
      "job\n",
      "marital\n",
      "education\n",
      "contact\n",
      "month\n",
      "day_of_week\n",
      "poutcome\n"
     ]
    }
   ],
   "source": [
    "for item in nom_attributes:\n",
    "    if type(df[item][0]) == str:\n",
    "        print(item)\n",
    "        dummy = get_dummy(df, item)\n",
    "        df = pd.concat([df, dummy], axis=1)\n",
    "        df = df.drop(item, axis=\"columns\")"
   ]
  },
  {
   "cell_type": "code",
   "execution_count": 56,
   "metadata": {},
   "outputs": [
    {
     "output_type": "execute_result",
     "data": {
      "text/plain": [
       "age                              0\n",
       "default                          0\n",
       "housing                          0\n",
       "loan                             0\n",
       "duration                         0\n",
       "campaign                         0\n",
       "pdays                            0\n",
       "previous                         0\n",
       "emp.var.rate                     0\n",
       "cons.price.idx                   0\n",
       "cons.conf.idx                    0\n",
       "euribor3m                        0\n",
       "nr.employed                      0\n",
       "y                                0\n",
       "job_admin.                       0\n",
       "job_blue-collar                  0\n",
       "job_entrepreneur                 0\n",
       "job_housemaid                    0\n",
       "job_management                   0\n",
       "job_retired                      0\n",
       "job_self-employed                0\n",
       "job_services                     0\n",
       "job_student                      0\n",
       "job_technician                   0\n",
       "job_unemployed                   0\n",
       "marital_divorced                 0\n",
       "marital_married                  0\n",
       "marital_single                   0\n",
       "education_basic.4y               0\n",
       "education_basic.6y               0\n",
       "education_basic.9y               0\n",
       "education_high.school            0\n",
       "education_illiterate             0\n",
       "education_professional.course    0\n",
       "education_university.degree      0\n",
       "contact_cellular                 0\n",
       "contact_telephone                0\n",
       "month_apr                        0\n",
       "month_aug                        0\n",
       "month_dec                        0\n",
       "month_jul                        0\n",
       "month_jun                        0\n",
       "month_mar                        0\n",
       "month_may                        0\n",
       "month_nov                        0\n",
       "month_oct                        0\n",
       "month_sep                        0\n",
       "day_of_week_fri                  0\n",
       "day_of_week_mon                  0\n",
       "day_of_week_thu                  0\n",
       "day_of_week_tue                  0\n",
       "day_of_week_wed                  0\n",
       "poutcome_failure                 0\n",
       "poutcome_nonexistent             0\n",
       "poutcome_success                 0\n",
       "dtype: int64"
      ]
     },
     "metadata": {},
     "execution_count": 56
    }
   ],
   "source": [
    "df.isnull().sum()"
   ]
  },
  {
   "cell_type": "code",
   "execution_count": 64,
   "metadata": {},
   "outputs": [],
   "source": [
    "subcribed = df.y.sum()\n",
    "unsubcribed = len(df.y) - subcribed"
   ]
  },
  {
   "cell_type": "code",
   "execution_count": 70,
   "metadata": {},
   "outputs": [
    {
     "output_type": "display_data",
     "data": {
      "text/plain": "<Figure size 432x288 with 1 Axes>",
      "image/svg+xml": "<?xml version=\"1.0\" encoding=\"utf-8\" standalone=\"no\"?>\n<!DOCTYPE svg PUBLIC \"-//W3C//DTD SVG 1.1//EN\"\n  \"http://www.w3.org/Graphics/SVG/1.1/DTD/svg11.dtd\">\n<!-- Created with matplotlib (https://matplotlib.org/) -->\n<svg height=\"334.19625pt\" version=\"1.1\" viewBox=\"0 0 498.890625 334.19625\" width=\"498.890625pt\" xmlns=\"http://www.w3.org/2000/svg\" xmlns:xlink=\"http://www.w3.org/1999/xlink\">\n <defs>\n  <style type=\"text/css\">\n*{stroke-linecap:butt;stroke-linejoin:round;}\n  </style>\n </defs>\n <g id=\"figure_1\">\n  <g id=\"patch_1\">\n   <path d=\"M -0 334.19625 \nL 498.890625 334.19625 \nL 498.890625 0 \nL -0 0 \nz\n\" style=\"fill:none;\"/>\n  </g>\n  <g id=\"axes_1\">\n   <g id=\"patch_2\">\n    <path d=\"M 59.690625 310.318125 \nL 491.690625 310.318125 \nL 491.690625 22.318125 \nL 59.690625 22.318125 \nz\n\" style=\"fill:#ffffff;\"/>\n   </g>\n   <g id=\"patch_3\">\n    <path clip-path=\"url(#p44bd6be8d9)\" d=\"M 79.326989 310.318125 \nL 253.872443 310.318125 \nL 253.872443 36.032411 \nL 79.326989 36.032411 \nz\n\" style=\"fill:#ff7f50;\"/>\n   </g>\n   <g id=\"patch_4\">\n    <path clip-path=\"url(#p44bd6be8d9)\" d=\"M 297.508807 310.318125 \nL 472.054261 310.318125 \nL 472.054261 270.569409 \nL 297.508807 270.569409 \nz\n\" style=\"fill:#87cefa;\"/>\n   </g>\n   <g id=\"matplotlib.axis_1\">\n    <g id=\"xtick_1\">\n     <g id=\"line2d_1\">\n      <defs>\n       <path d=\"M 0 0 \nL 0 3.5 \n\" id=\"m26608e348a\" style=\"stroke:#000000;stroke-width:0.8;\"/>\n      </defs>\n      <g>\n       <use style=\"stroke:#000000;stroke-width:0.8;\" x=\"166.599716\" xlink:href=\"#m26608e348a\" y=\"310.318125\"/>\n      </g>\n     </g>\n     <g id=\"text_1\">\n      <!-- 0 -->\n      <defs>\n       <path d=\"M 31.78125 66.40625 \nQ 24.171875 66.40625 20.328125 58.90625 \nQ 16.5 51.421875 16.5 36.375 \nQ 16.5 21.390625 20.328125 13.890625 \nQ 24.171875 6.390625 31.78125 6.390625 \nQ 39.453125 6.390625 43.28125 13.890625 \nQ 47.125 21.390625 47.125 36.375 \nQ 47.125 51.421875 43.28125 58.90625 \nQ 39.453125 66.40625 31.78125 66.40625 \nz\nM 31.78125 74.21875 \nQ 44.046875 74.21875 50.515625 64.515625 \nQ 56.984375 54.828125 56.984375 36.375 \nQ 56.984375 17.96875 50.515625 8.265625 \nQ 44.046875 -1.421875 31.78125 -1.421875 \nQ 19.53125 -1.421875 13.0625 8.265625 \nQ 6.59375 17.96875 6.59375 36.375 \nQ 6.59375 54.828125 13.0625 64.515625 \nQ 19.53125 74.21875 31.78125 74.21875 \nz\n\" id=\"DejaVuSans-48\"/>\n      </defs>\n      <g transform=\"translate(163.418466 324.916562)scale(0.1 -0.1)\">\n       <use xlink:href=\"#DejaVuSans-48\"/>\n      </g>\n     </g>\n    </g>\n    <g id=\"xtick_2\">\n     <g id=\"line2d_2\">\n      <g>\n       <use style=\"stroke:#000000;stroke-width:0.8;\" x=\"384.781534\" xlink:href=\"#m26608e348a\" y=\"310.318125\"/>\n      </g>\n     </g>\n     <g id=\"text_2\">\n      <!-- 1 -->\n      <defs>\n       <path d=\"M 12.40625 8.296875 \nL 28.515625 8.296875 \nL 28.515625 63.921875 \nL 10.984375 60.40625 \nL 10.984375 69.390625 \nL 28.421875 72.90625 \nL 38.28125 72.90625 \nL 38.28125 8.296875 \nL 54.390625 8.296875 \nL 54.390625 0 \nL 12.40625 0 \nz\n\" id=\"DejaVuSans-49\"/>\n      </defs>\n      <g transform=\"translate(381.600284 324.916562)scale(0.1 -0.1)\">\n       <use xlink:href=\"#DejaVuSans-49\"/>\n      </g>\n     </g>\n    </g>\n   </g>\n   <g id=\"matplotlib.axis_2\">\n    <g id=\"ytick_1\">\n     <g id=\"line2d_3\">\n      <defs>\n       <path d=\"M 0 0 \nL -3.5 0 \n\" id=\"m0cc7c15bd8\" style=\"stroke:#000000;stroke-width:0.8;\"/>\n      </defs>\n      <g>\n       <use style=\"stroke:#000000;stroke-width:0.8;\" x=\"59.690625\" xlink:href=\"#m0cc7c15bd8\" y=\"310.318125\"/>\n      </g>\n     </g>\n     <g id=\"text_3\">\n      <!-- 0 -->\n      <g transform=\"translate(46.328125 314.117344)scale(0.1 -0.1)\">\n       <use xlink:href=\"#DejaVuSans-48\"/>\n      </g>\n     </g>\n    </g>\n    <g id=\"ytick_2\">\n     <g id=\"line2d_4\">\n      <g>\n       <use style=\"stroke:#000000;stroke-width:0.8;\" x=\"59.690625\" xlink:href=\"#m0cc7c15bd8\" y=\"258.816808\"/>\n      </g>\n     </g>\n     <g id=\"text_4\">\n      <!-- 5000 -->\n      <defs>\n       <path d=\"M 10.796875 72.90625 \nL 49.515625 72.90625 \nL 49.515625 64.59375 \nL 19.828125 64.59375 \nL 19.828125 46.734375 \nQ 21.96875 47.46875 24.109375 47.828125 \nQ 26.265625 48.1875 28.421875 48.1875 \nQ 40.625 48.1875 47.75 41.5 \nQ 54.890625 34.8125 54.890625 23.390625 \nQ 54.890625 11.625 47.5625 5.09375 \nQ 40.234375 -1.421875 26.90625 -1.421875 \nQ 22.3125 -1.421875 17.546875 -0.640625 \nQ 12.796875 0.140625 7.71875 1.703125 \nL 7.71875 11.625 \nQ 12.109375 9.234375 16.796875 8.0625 \nQ 21.484375 6.890625 26.703125 6.890625 \nQ 35.15625 6.890625 40.078125 11.328125 \nQ 45.015625 15.765625 45.015625 23.390625 \nQ 45.015625 31 40.078125 35.4375 \nQ 35.15625 39.890625 26.703125 39.890625 \nQ 22.75 39.890625 18.8125 39.015625 \nQ 14.890625 38.140625 10.796875 36.28125 \nz\n\" id=\"DejaVuSans-53\"/>\n      </defs>\n      <g transform=\"translate(27.240625 262.616027)scale(0.1 -0.1)\">\n       <use xlink:href=\"#DejaVuSans-53\"/>\n       <use x=\"63.623047\" xlink:href=\"#DejaVuSans-48\"/>\n       <use x=\"127.246094\" xlink:href=\"#DejaVuSans-48\"/>\n       <use x=\"190.869141\" xlink:href=\"#DejaVuSans-48\"/>\n      </g>\n     </g>\n    </g>\n    <g id=\"ytick_3\">\n     <g id=\"line2d_5\">\n      <g>\n       <use style=\"stroke:#000000;stroke-width:0.8;\" x=\"59.690625\" xlink:href=\"#m0cc7c15bd8\" y=\"207.315491\"/>\n      </g>\n     </g>\n     <g id=\"text_5\">\n      <!-- 10000 -->\n      <g transform=\"translate(20.878125 211.11471)scale(0.1 -0.1)\">\n       <use xlink:href=\"#DejaVuSans-49\"/>\n       <use x=\"63.623047\" xlink:href=\"#DejaVuSans-48\"/>\n       <use x=\"127.246094\" xlink:href=\"#DejaVuSans-48\"/>\n       <use x=\"190.869141\" xlink:href=\"#DejaVuSans-48\"/>\n       <use x=\"254.492188\" xlink:href=\"#DejaVuSans-48\"/>\n      </g>\n     </g>\n    </g>\n    <g id=\"ytick_4\">\n     <g id=\"line2d_6\">\n      <g>\n       <use style=\"stroke:#000000;stroke-width:0.8;\" x=\"59.690625\" xlink:href=\"#m0cc7c15bd8\" y=\"155.814174\"/>\n      </g>\n     </g>\n     <g id=\"text_6\">\n      <!-- 15000 -->\n      <g transform=\"translate(20.878125 159.613393)scale(0.1 -0.1)\">\n       <use xlink:href=\"#DejaVuSans-49\"/>\n       <use x=\"63.623047\" xlink:href=\"#DejaVuSans-53\"/>\n       <use x=\"127.246094\" xlink:href=\"#DejaVuSans-48\"/>\n       <use x=\"190.869141\" xlink:href=\"#DejaVuSans-48\"/>\n       <use x=\"254.492188\" xlink:href=\"#DejaVuSans-48\"/>\n      </g>\n     </g>\n    </g>\n    <g id=\"ytick_5\">\n     <g id=\"line2d_7\">\n      <g>\n       <use style=\"stroke:#000000;stroke-width:0.8;\" x=\"59.690625\" xlink:href=\"#m0cc7c15bd8\" y=\"104.312857\"/>\n      </g>\n     </g>\n     <g id=\"text_7\">\n      <!-- 20000 -->\n      <defs>\n       <path d=\"M 19.1875 8.296875 \nL 53.609375 8.296875 \nL 53.609375 0 \nL 7.328125 0 \nL 7.328125 8.296875 \nQ 12.9375 14.109375 22.625 23.890625 \nQ 32.328125 33.6875 34.8125 36.53125 \nQ 39.546875 41.84375 41.421875 45.53125 \nQ 43.3125 49.21875 43.3125 52.78125 \nQ 43.3125 58.59375 39.234375 62.25 \nQ 35.15625 65.921875 28.609375 65.921875 \nQ 23.96875 65.921875 18.8125 64.3125 \nQ 13.671875 62.703125 7.8125 59.421875 \nL 7.8125 69.390625 \nQ 13.765625 71.78125 18.9375 73 \nQ 24.125 74.21875 28.421875 74.21875 \nQ 39.75 74.21875 46.484375 68.546875 \nQ 53.21875 62.890625 53.21875 53.421875 \nQ 53.21875 48.921875 51.53125 44.890625 \nQ 49.859375 40.875 45.40625 35.40625 \nQ 44.1875 33.984375 37.640625 27.21875 \nQ 31.109375 20.453125 19.1875 8.296875 \nz\n\" id=\"DejaVuSans-50\"/>\n      </defs>\n      <g transform=\"translate(20.878125 108.112076)scale(0.1 -0.1)\">\n       <use xlink:href=\"#DejaVuSans-50\"/>\n       <use x=\"63.623047\" xlink:href=\"#DejaVuSans-48\"/>\n       <use x=\"127.246094\" xlink:href=\"#DejaVuSans-48\"/>\n       <use x=\"190.869141\" xlink:href=\"#DejaVuSans-48\"/>\n       <use x=\"254.492188\" xlink:href=\"#DejaVuSans-48\"/>\n      </g>\n     </g>\n    </g>\n    <g id=\"ytick_6\">\n     <g id=\"line2d_8\">\n      <g>\n       <use style=\"stroke:#000000;stroke-width:0.8;\" x=\"59.690625\" xlink:href=\"#m0cc7c15bd8\" y=\"52.81154\"/>\n      </g>\n     </g>\n     <g id=\"text_8\">\n      <!-- 25000 -->\n      <g transform=\"translate(20.878125 56.610759)scale(0.1 -0.1)\">\n       <use xlink:href=\"#DejaVuSans-50\"/>\n       <use x=\"63.623047\" xlink:href=\"#DejaVuSans-53\"/>\n       <use x=\"127.246094\" xlink:href=\"#DejaVuSans-48\"/>\n       <use x=\"190.869141\" xlink:href=\"#DejaVuSans-48\"/>\n       <use x=\"254.492188\" xlink:href=\"#DejaVuSans-48\"/>\n      </g>\n     </g>\n    </g>\n    <g id=\"text_9\">\n     <!-- Anzahl der Kunden, die ein Konto angelegt haben -->\n     <defs>\n      <path d=\"M 34.1875 63.1875 \nL 20.796875 26.90625 \nL 47.609375 26.90625 \nz\nM 28.609375 72.90625 \nL 39.796875 72.90625 \nL 67.578125 0 \nL 57.328125 0 \nL 50.6875 18.703125 \nL 17.828125 18.703125 \nL 11.1875 0 \nL 0.78125 0 \nz\n\" id=\"DejaVuSans-65\"/>\n      <path d=\"M 54.890625 33.015625 \nL 54.890625 0 \nL 45.90625 0 \nL 45.90625 32.71875 \nQ 45.90625 40.484375 42.875 44.328125 \nQ 39.84375 48.1875 33.796875 48.1875 \nQ 26.515625 48.1875 22.3125 43.546875 \nQ 18.109375 38.921875 18.109375 30.90625 \nL 18.109375 0 \nL 9.078125 0 \nL 9.078125 54.6875 \nL 18.109375 54.6875 \nL 18.109375 46.1875 \nQ 21.34375 51.125 25.703125 53.5625 \nQ 30.078125 56 35.796875 56 \nQ 45.21875 56 50.046875 50.171875 \nQ 54.890625 44.34375 54.890625 33.015625 \nz\n\" id=\"DejaVuSans-110\"/>\n      <path d=\"M 5.515625 54.6875 \nL 48.1875 54.6875 \nL 48.1875 46.484375 \nL 14.40625 7.171875 \nL 48.1875 7.171875 \nL 48.1875 0 \nL 4.296875 0 \nL 4.296875 8.203125 \nL 38.09375 47.515625 \nL 5.515625 47.515625 \nz\n\" id=\"DejaVuSans-122\"/>\n      <path d=\"M 34.28125 27.484375 \nQ 23.390625 27.484375 19.1875 25 \nQ 14.984375 22.515625 14.984375 16.5 \nQ 14.984375 11.71875 18.140625 8.90625 \nQ 21.296875 6.109375 26.703125 6.109375 \nQ 34.1875 6.109375 38.703125 11.40625 \nQ 43.21875 16.703125 43.21875 25.484375 \nL 43.21875 27.484375 \nz\nM 52.203125 31.203125 \nL 52.203125 0 \nL 43.21875 0 \nL 43.21875 8.296875 \nQ 40.140625 3.328125 35.546875 0.953125 \nQ 30.953125 -1.421875 24.3125 -1.421875 \nQ 15.921875 -1.421875 10.953125 3.296875 \nQ 6 8.015625 6 15.921875 \nQ 6 25.140625 12.171875 29.828125 \nQ 18.359375 34.515625 30.609375 34.515625 \nL 43.21875 34.515625 \nL 43.21875 35.40625 \nQ 43.21875 41.609375 39.140625 45 \nQ 35.0625 48.390625 27.6875 48.390625 \nQ 23 48.390625 18.546875 47.265625 \nQ 14.109375 46.140625 10.015625 43.890625 \nL 10.015625 52.203125 \nQ 14.9375 54.109375 19.578125 55.046875 \nQ 24.21875 56 28.609375 56 \nQ 40.484375 56 46.34375 49.84375 \nQ 52.203125 43.703125 52.203125 31.203125 \nz\n\" id=\"DejaVuSans-97\"/>\n      <path d=\"M 54.890625 33.015625 \nL 54.890625 0 \nL 45.90625 0 \nL 45.90625 32.71875 \nQ 45.90625 40.484375 42.875 44.328125 \nQ 39.84375 48.1875 33.796875 48.1875 \nQ 26.515625 48.1875 22.3125 43.546875 \nQ 18.109375 38.921875 18.109375 30.90625 \nL 18.109375 0 \nL 9.078125 0 \nL 9.078125 75.984375 \nL 18.109375 75.984375 \nL 18.109375 46.1875 \nQ 21.34375 51.125 25.703125 53.5625 \nQ 30.078125 56 35.796875 56 \nQ 45.21875 56 50.046875 50.171875 \nQ 54.890625 44.34375 54.890625 33.015625 \nz\n\" id=\"DejaVuSans-104\"/>\n      <path d=\"M 9.421875 75.984375 \nL 18.40625 75.984375 \nL 18.40625 0 \nL 9.421875 0 \nz\n\" id=\"DejaVuSans-108\"/>\n      <path id=\"DejaVuSans-32\"/>\n      <path d=\"M 45.40625 46.390625 \nL 45.40625 75.984375 \nL 54.390625 75.984375 \nL 54.390625 0 \nL 45.40625 0 \nL 45.40625 8.203125 \nQ 42.578125 3.328125 38.25 0.953125 \nQ 33.9375 -1.421875 27.875 -1.421875 \nQ 17.96875 -1.421875 11.734375 6.484375 \nQ 5.515625 14.40625 5.515625 27.296875 \nQ 5.515625 40.1875 11.734375 48.09375 \nQ 17.96875 56 27.875 56 \nQ 33.9375 56 38.25 53.625 \nQ 42.578125 51.265625 45.40625 46.390625 \nz\nM 14.796875 27.296875 \nQ 14.796875 17.390625 18.875 11.75 \nQ 22.953125 6.109375 30.078125 6.109375 \nQ 37.203125 6.109375 41.296875 11.75 \nQ 45.40625 17.390625 45.40625 27.296875 \nQ 45.40625 37.203125 41.296875 42.84375 \nQ 37.203125 48.484375 30.078125 48.484375 \nQ 22.953125 48.484375 18.875 42.84375 \nQ 14.796875 37.203125 14.796875 27.296875 \nz\n\" id=\"DejaVuSans-100\"/>\n      <path d=\"M 56.203125 29.59375 \nL 56.203125 25.203125 \nL 14.890625 25.203125 \nQ 15.484375 15.921875 20.484375 11.0625 \nQ 25.484375 6.203125 34.421875 6.203125 \nQ 39.59375 6.203125 44.453125 7.46875 \nQ 49.3125 8.734375 54.109375 11.28125 \nL 54.109375 2.78125 \nQ 49.265625 0.734375 44.1875 -0.34375 \nQ 39.109375 -1.421875 33.890625 -1.421875 \nQ 20.796875 -1.421875 13.15625 6.1875 \nQ 5.515625 13.8125 5.515625 26.8125 \nQ 5.515625 40.234375 12.765625 48.109375 \nQ 20.015625 56 32.328125 56 \nQ 43.359375 56 49.78125 48.890625 \nQ 56.203125 41.796875 56.203125 29.59375 \nz\nM 47.21875 32.234375 \nQ 47.125 39.59375 43.09375 43.984375 \nQ 39.0625 48.390625 32.421875 48.390625 \nQ 24.90625 48.390625 20.390625 44.140625 \nQ 15.875 39.890625 15.1875 32.171875 \nz\n\" id=\"DejaVuSans-101\"/>\n      <path d=\"M 41.109375 46.296875 \nQ 39.59375 47.171875 37.8125 47.578125 \nQ 36.03125 48 33.890625 48 \nQ 26.265625 48 22.1875 43.046875 \nQ 18.109375 38.09375 18.109375 28.8125 \nL 18.109375 0 \nL 9.078125 0 \nL 9.078125 54.6875 \nL 18.109375 54.6875 \nL 18.109375 46.1875 \nQ 20.953125 51.171875 25.484375 53.578125 \nQ 30.03125 56 36.53125 56 \nQ 37.453125 56 38.578125 55.875 \nQ 39.703125 55.765625 41.0625 55.515625 \nz\n\" id=\"DejaVuSans-114\"/>\n      <path d=\"M 9.8125 72.90625 \nL 19.671875 72.90625 \nL 19.671875 42.09375 \nL 52.390625 72.90625 \nL 65.09375 72.90625 \nL 28.90625 38.921875 \nL 67.671875 0 \nL 54.6875 0 \nL 19.671875 35.109375 \nL 19.671875 0 \nL 9.8125 0 \nz\n\" id=\"DejaVuSans-75\"/>\n      <path d=\"M 8.5 21.578125 \nL 8.5 54.6875 \nL 17.484375 54.6875 \nL 17.484375 21.921875 \nQ 17.484375 14.15625 20.5 10.265625 \nQ 23.53125 6.390625 29.59375 6.390625 \nQ 36.859375 6.390625 41.078125 11.03125 \nQ 45.3125 15.671875 45.3125 23.6875 \nL 45.3125 54.6875 \nL 54.296875 54.6875 \nL 54.296875 0 \nL 45.3125 0 \nL 45.3125 8.40625 \nQ 42.046875 3.421875 37.71875 1 \nQ 33.40625 -1.421875 27.6875 -1.421875 \nQ 18.265625 -1.421875 13.375 4.4375 \nQ 8.5 10.296875 8.5 21.578125 \nz\nM 31.109375 56 \nz\n\" id=\"DejaVuSans-117\"/>\n      <path d=\"M 11.71875 12.40625 \nL 22.015625 12.40625 \nL 22.015625 4 \nL 14.015625 -11.625 \nL 7.71875 -11.625 \nL 11.71875 4 \nz\n\" id=\"DejaVuSans-44\"/>\n      <path d=\"M 9.421875 54.6875 \nL 18.40625 54.6875 \nL 18.40625 0 \nL 9.421875 0 \nz\nM 9.421875 75.984375 \nL 18.40625 75.984375 \nL 18.40625 64.59375 \nL 9.421875 64.59375 \nz\n\" id=\"DejaVuSans-105\"/>\n      <path d=\"M 30.609375 48.390625 \nQ 23.390625 48.390625 19.1875 42.75 \nQ 14.984375 37.109375 14.984375 27.296875 \nQ 14.984375 17.484375 19.15625 11.84375 \nQ 23.34375 6.203125 30.609375 6.203125 \nQ 37.796875 6.203125 41.984375 11.859375 \nQ 46.1875 17.53125 46.1875 27.296875 \nQ 46.1875 37.015625 41.984375 42.703125 \nQ 37.796875 48.390625 30.609375 48.390625 \nz\nM 30.609375 56 \nQ 42.328125 56 49.015625 48.375 \nQ 55.71875 40.765625 55.71875 27.296875 \nQ 55.71875 13.875 49.015625 6.21875 \nQ 42.328125 -1.421875 30.609375 -1.421875 \nQ 18.84375 -1.421875 12.171875 6.21875 \nQ 5.515625 13.875 5.515625 27.296875 \nQ 5.515625 40.765625 12.171875 48.375 \nQ 18.84375 56 30.609375 56 \nz\n\" id=\"DejaVuSans-111\"/>\n      <path d=\"M 18.3125 70.21875 \nL 18.3125 54.6875 \nL 36.8125 54.6875 \nL 36.8125 47.703125 \nL 18.3125 47.703125 \nL 18.3125 18.015625 \nQ 18.3125 11.328125 20.140625 9.421875 \nQ 21.96875 7.515625 27.59375 7.515625 \nL 36.8125 7.515625 \nL 36.8125 0 \nL 27.59375 0 \nQ 17.1875 0 13.234375 3.875 \nQ 9.28125 7.765625 9.28125 18.015625 \nL 9.28125 47.703125 \nL 2.6875 47.703125 \nL 2.6875 54.6875 \nL 9.28125 54.6875 \nL 9.28125 70.21875 \nz\n\" id=\"DejaVuSans-116\"/>\n      <path d=\"M 45.40625 27.984375 \nQ 45.40625 37.75 41.375 43.109375 \nQ 37.359375 48.484375 30.078125 48.484375 \nQ 22.859375 48.484375 18.828125 43.109375 \nQ 14.796875 37.75 14.796875 27.984375 \nQ 14.796875 18.265625 18.828125 12.890625 \nQ 22.859375 7.515625 30.078125 7.515625 \nQ 37.359375 7.515625 41.375 12.890625 \nQ 45.40625 18.265625 45.40625 27.984375 \nz\nM 54.390625 6.78125 \nQ 54.390625 -7.171875 48.1875 -13.984375 \nQ 42 -20.796875 29.203125 -20.796875 \nQ 24.46875 -20.796875 20.265625 -20.09375 \nQ 16.0625 -19.390625 12.109375 -17.921875 \nL 12.109375 -9.1875 \nQ 16.0625 -11.328125 19.921875 -12.34375 \nQ 23.78125 -13.375 27.78125 -13.375 \nQ 36.625 -13.375 41.015625 -8.765625 \nQ 45.40625 -4.15625 45.40625 5.171875 \nL 45.40625 9.625 \nQ 42.625 4.78125 38.28125 2.390625 \nQ 33.9375 0 27.875 0 \nQ 17.828125 0 11.671875 7.65625 \nQ 5.515625 15.328125 5.515625 27.984375 \nQ 5.515625 40.671875 11.671875 48.328125 \nQ 17.828125 56 27.875 56 \nQ 33.9375 56 38.28125 53.609375 \nQ 42.625 51.21875 45.40625 46.390625 \nL 45.40625 54.6875 \nL 54.390625 54.6875 \nz\n\" id=\"DejaVuSans-103\"/>\n      <path d=\"M 48.6875 27.296875 \nQ 48.6875 37.203125 44.609375 42.84375 \nQ 40.53125 48.484375 33.40625 48.484375 \nQ 26.265625 48.484375 22.1875 42.84375 \nQ 18.109375 37.203125 18.109375 27.296875 \nQ 18.109375 17.390625 22.1875 11.75 \nQ 26.265625 6.109375 33.40625 6.109375 \nQ 40.53125 6.109375 44.609375 11.75 \nQ 48.6875 17.390625 48.6875 27.296875 \nz\nM 18.109375 46.390625 \nQ 20.953125 51.265625 25.265625 53.625 \nQ 29.59375 56 35.59375 56 \nQ 45.5625 56 51.78125 48.09375 \nQ 58.015625 40.1875 58.015625 27.296875 \nQ 58.015625 14.40625 51.78125 6.484375 \nQ 45.5625 -1.421875 35.59375 -1.421875 \nQ 29.59375 -1.421875 25.265625 0.953125 \nQ 20.953125 3.328125 18.109375 8.203125 \nL 18.109375 0 \nL 9.078125 0 \nL 9.078125 75.984375 \nL 18.109375 75.984375 \nz\n\" id=\"DejaVuSans-98\"/>\n     </defs>\n     <g transform=\"translate(14.798437 290.736875)rotate(-90)scale(0.1 -0.1)\">\n      <use xlink:href=\"#DejaVuSans-65\"/>\n      <use x=\"68.408203\" xlink:href=\"#DejaVuSans-110\"/>\n      <use x=\"131.787109\" xlink:href=\"#DejaVuSans-122\"/>\n      <use x=\"184.277344\" xlink:href=\"#DejaVuSans-97\"/>\n      <use x=\"245.556641\" xlink:href=\"#DejaVuSans-104\"/>\n      <use x=\"308.935547\" xlink:href=\"#DejaVuSans-108\"/>\n      <use x=\"336.71875\" xlink:href=\"#DejaVuSans-32\"/>\n      <use x=\"368.505859\" xlink:href=\"#DejaVuSans-100\"/>\n      <use x=\"431.982422\" xlink:href=\"#DejaVuSans-101\"/>\n      <use x=\"493.505859\" xlink:href=\"#DejaVuSans-114\"/>\n      <use x=\"534.619141\" xlink:href=\"#DejaVuSans-32\"/>\n      <use x=\"566.40625\" xlink:href=\"#DejaVuSans-75\"/>\n      <use x=\"631.904297\" xlink:href=\"#DejaVuSans-117\"/>\n      <use x=\"695.283203\" xlink:href=\"#DejaVuSans-110\"/>\n      <use x=\"758.662109\" xlink:href=\"#DejaVuSans-100\"/>\n      <use x=\"822.138672\" xlink:href=\"#DejaVuSans-101\"/>\n      <use x=\"883.662109\" xlink:href=\"#DejaVuSans-110\"/>\n      <use x=\"947.041016\" xlink:href=\"#DejaVuSans-44\"/>\n      <use x=\"978.828125\" xlink:href=\"#DejaVuSans-32\"/>\n      <use x=\"1010.615234\" xlink:href=\"#DejaVuSans-100\"/>\n      <use x=\"1074.091797\" xlink:href=\"#DejaVuSans-105\"/>\n      <use x=\"1101.875\" xlink:href=\"#DejaVuSans-101\"/>\n      <use x=\"1163.398438\" xlink:href=\"#DejaVuSans-32\"/>\n      <use x=\"1195.185547\" xlink:href=\"#DejaVuSans-101\"/>\n      <use x=\"1256.708984\" xlink:href=\"#DejaVuSans-105\"/>\n      <use x=\"1284.492188\" xlink:href=\"#DejaVuSans-110\"/>\n      <use x=\"1347.871094\" xlink:href=\"#DejaVuSans-32\"/>\n      <use x=\"1379.658203\" xlink:href=\"#DejaVuSans-75\"/>\n      <use x=\"1445.15625\" xlink:href=\"#DejaVuSans-111\"/>\n      <use x=\"1506.337891\" xlink:href=\"#DejaVuSans-110\"/>\n      <use x=\"1569.716797\" xlink:href=\"#DejaVuSans-116\"/>\n      <use x=\"1608.925781\" xlink:href=\"#DejaVuSans-111\"/>\n      <use x=\"1670.107422\" xlink:href=\"#DejaVuSans-32\"/>\n      <use x=\"1701.894531\" xlink:href=\"#DejaVuSans-97\"/>\n      <use x=\"1763.173828\" xlink:href=\"#DejaVuSans-110\"/>\n      <use x=\"1826.552734\" xlink:href=\"#DejaVuSans-103\"/>\n      <use x=\"1890.029297\" xlink:href=\"#DejaVuSans-101\"/>\n      <use x=\"1951.552734\" xlink:href=\"#DejaVuSans-108\"/>\n      <use x=\"1979.335938\" xlink:href=\"#DejaVuSans-101\"/>\n      <use x=\"2040.859375\" xlink:href=\"#DejaVuSans-103\"/>\n      <use x=\"2104.335938\" xlink:href=\"#DejaVuSans-116\"/>\n      <use x=\"2143.544922\" xlink:href=\"#DejaVuSans-32\"/>\n      <use x=\"2175.332031\" xlink:href=\"#DejaVuSans-104\"/>\n      <use x=\"2238.710938\" xlink:href=\"#DejaVuSans-97\"/>\n      <use x=\"2299.990234\" xlink:href=\"#DejaVuSans-98\"/>\n      <use x=\"2363.466797\" xlink:href=\"#DejaVuSans-101\"/>\n      <use x=\"2424.990234\" xlink:href=\"#DejaVuSans-110\"/>\n     </g>\n    </g>\n   </g>\n   <g id=\"patch_5\">\n    <path d=\"M 59.690625 310.318125 \nL 59.690625 22.318125 \n\" style=\"fill:none;stroke:#000000;stroke-linecap:square;stroke-linejoin:miter;stroke-width:0.8;\"/>\n   </g>\n   <g id=\"patch_6\">\n    <path d=\"M 491.690625 310.318125 \nL 491.690625 22.318125 \n\" style=\"fill:none;stroke:#000000;stroke-linecap:square;stroke-linejoin:miter;stroke-width:0.8;\"/>\n   </g>\n   <g id=\"patch_7\">\n    <path d=\"M 59.690625 310.318125 \nL 491.690625 310.318125 \n\" style=\"fill:none;stroke:#000000;stroke-linecap:square;stroke-linejoin:miter;stroke-width:0.8;\"/>\n   </g>\n   <g id=\"patch_8\">\n    <path d=\"M 59.690625 22.318125 \nL 491.690625 22.318125 \n\" style=\"fill:none;stroke:#000000;stroke-linecap:square;stroke-linejoin:miter;stroke-width:0.8;\"/>\n   </g>\n   <g id=\"text_10\">\n    <!-- Übersicht der Zielvariable -->\n    <defs>\n     <path d=\"M 8.6875 72.90625 \nL 18.609375 72.90625 \nL 18.609375 28.609375 \nQ 18.609375 16.890625 22.84375 11.734375 \nQ 27.09375 6.59375 36.625 6.59375 \nQ 46.09375 6.59375 50.34375 11.734375 \nQ 54.59375 16.890625 54.59375 28.609375 \nL 54.59375 72.90625 \nL 64.5 72.90625 \nL 64.5 27.390625 \nQ 64.5 13.140625 57.4375 5.859375 \nQ 50.390625 -1.421875 36.625 -1.421875 \nQ 22.796875 -1.421875 15.734375 5.859375 \nQ 8.6875 13.140625 8.6875 27.390625 \nz\nM 41.21875 91.3125 \nL 51.125 91.3125 \nL 51.125 81.40625 \nL 41.21875 81.40625 \nz\nM 22.125 91.3125 \nL 32.03125 91.3125 \nL 32.03125 81.40625 \nL 22.125 81.40625 \nz\n\" id=\"DejaVuSans-220\"/>\n     <path d=\"M 44.28125 53.078125 \nL 44.28125 44.578125 \nQ 40.484375 46.53125 36.375 47.5 \nQ 32.28125 48.484375 27.875 48.484375 \nQ 21.1875 48.484375 17.84375 46.4375 \nQ 14.5 44.390625 14.5 40.28125 \nQ 14.5 37.15625 16.890625 35.375 \nQ 19.28125 33.59375 26.515625 31.984375 \nL 29.59375 31.296875 \nQ 39.15625 29.25 43.1875 25.515625 \nQ 47.21875 21.78125 47.21875 15.09375 \nQ 47.21875 7.46875 41.1875 3.015625 \nQ 35.15625 -1.421875 24.609375 -1.421875 \nQ 20.21875 -1.421875 15.453125 -0.5625 \nQ 10.6875 0.296875 5.421875 2 \nL 5.421875 11.28125 \nQ 10.40625 8.6875 15.234375 7.390625 \nQ 20.0625 6.109375 24.8125 6.109375 \nQ 31.15625 6.109375 34.5625 8.28125 \nQ 37.984375 10.453125 37.984375 14.40625 \nQ 37.984375 18.0625 35.515625 20.015625 \nQ 33.0625 21.96875 24.703125 23.78125 \nL 21.578125 24.515625 \nQ 13.234375 26.265625 9.515625 29.90625 \nQ 5.8125 33.546875 5.8125 39.890625 \nQ 5.8125 47.609375 11.28125 51.796875 \nQ 16.75 56 26.8125 56 \nQ 31.78125 56 36.171875 55.265625 \nQ 40.578125 54.546875 44.28125 53.078125 \nz\n\" id=\"DejaVuSans-115\"/>\n     <path d=\"M 48.78125 52.59375 \nL 48.78125 44.1875 \nQ 44.96875 46.296875 41.140625 47.34375 \nQ 37.3125 48.390625 33.40625 48.390625 \nQ 24.65625 48.390625 19.8125 42.84375 \nQ 14.984375 37.3125 14.984375 27.296875 \nQ 14.984375 17.28125 19.8125 11.734375 \nQ 24.65625 6.203125 33.40625 6.203125 \nQ 37.3125 6.203125 41.140625 7.25 \nQ 44.96875 8.296875 48.78125 10.40625 \nL 48.78125 2.09375 \nQ 45.015625 0.34375 40.984375 -0.53125 \nQ 36.96875 -1.421875 32.421875 -1.421875 \nQ 20.0625 -1.421875 12.78125 6.34375 \nQ 5.515625 14.109375 5.515625 27.296875 \nQ 5.515625 40.671875 12.859375 48.328125 \nQ 20.21875 56 33.015625 56 \nQ 37.15625 56 41.109375 55.140625 \nQ 45.0625 54.296875 48.78125 52.59375 \nz\n\" id=\"DejaVuSans-99\"/>\n     <path d=\"M 5.609375 72.90625 \nL 62.890625 72.90625 \nL 62.890625 65.375 \nL 16.796875 8.296875 \nL 64.015625 8.296875 \nL 64.015625 0 \nL 4.5 0 \nL 4.5 7.515625 \nL 50.59375 64.59375 \nL 5.609375 64.59375 \nz\n\" id=\"DejaVuSans-90\"/>\n     <path d=\"M 2.984375 54.6875 \nL 12.5 54.6875 \nL 29.59375 8.796875 \nL 46.6875 54.6875 \nL 56.203125 54.6875 \nL 35.6875 0 \nL 23.484375 0 \nz\n\" id=\"DejaVuSans-118\"/>\n    </defs>\n    <g transform=\"translate(197.9625 16.318125)scale(0.12 -0.12)\">\n     <use xlink:href=\"#DejaVuSans-220\"/>\n     <use x=\"73.193359\" xlink:href=\"#DejaVuSans-98\"/>\n     <use x=\"136.669922\" xlink:href=\"#DejaVuSans-101\"/>\n     <use x=\"198.193359\" xlink:href=\"#DejaVuSans-114\"/>\n     <use x=\"239.306641\" xlink:href=\"#DejaVuSans-115\"/>\n     <use x=\"291.40625\" xlink:href=\"#DejaVuSans-105\"/>\n     <use x=\"319.189453\" xlink:href=\"#DejaVuSans-99\"/>\n     <use x=\"374.169922\" xlink:href=\"#DejaVuSans-104\"/>\n     <use x=\"437.548828\" xlink:href=\"#DejaVuSans-116\"/>\n     <use x=\"476.757812\" xlink:href=\"#DejaVuSans-32\"/>\n     <use x=\"508.544922\" xlink:href=\"#DejaVuSans-100\"/>\n     <use x=\"572.021484\" xlink:href=\"#DejaVuSans-101\"/>\n     <use x=\"633.544922\" xlink:href=\"#DejaVuSans-114\"/>\n     <use x=\"674.658203\" xlink:href=\"#DejaVuSans-32\"/>\n     <use x=\"706.445312\" xlink:href=\"#DejaVuSans-90\"/>\n     <use x=\"774.951172\" xlink:href=\"#DejaVuSans-105\"/>\n     <use x=\"802.734375\" xlink:href=\"#DejaVuSans-101\"/>\n     <use x=\"864.257812\" xlink:href=\"#DejaVuSans-108\"/>\n     <use x=\"892.041016\" xlink:href=\"#DejaVuSans-118\"/>\n     <use x=\"951.220703\" xlink:href=\"#DejaVuSans-97\"/>\n     <use x=\"1012.5\" xlink:href=\"#DejaVuSans-114\"/>\n     <use x=\"1053.613281\" xlink:href=\"#DejaVuSans-105\"/>\n     <use x=\"1081.396484\" xlink:href=\"#DejaVuSans-97\"/>\n     <use x=\"1142.675781\" xlink:href=\"#DejaVuSans-98\"/>\n     <use x=\"1206.152344\" xlink:href=\"#DejaVuSans-108\"/>\n     <use x=\"1233.935547\" xlink:href=\"#DejaVuSans-101\"/>\n    </g>\n   </g>\n  </g>\n </g>\n <defs>\n  <clipPath id=\"p44bd6be8d9\">\n   <rect height=\"288\" width=\"432\" x=\"59.690625\" y=\"22.318125\"/>\n  </clipPath>\n </defs>\n</svg>\n",
      "image/png": "[encoded data removed]"
     },
     "metadata": {
      "needs_background": "light"
     }
    }
   ],
   "source": [
    "import matplotlib.pyplot as plt\n",
    "fig = plt.figure()\n",
    "ax = fig.add_axes([0,0,1,1])\n",
    "langs = ['0', '1']\n",
    "y_new = [unsubcribed, subcribed]\n",
    "ax.bar(langs,y_new, color=['coral', 'lightskyblue'])\n",
    "plt.title('Übersicht der Zielvariable')\n",
    "plt.ylabel('Anzahl der Kunden, die ein Konto angelegt haben')\n",
    "plt.show()"
   ]
  },
  {
   "cell_type": "code",
   "execution_count": 24,
   "metadata": {},
   "outputs": [],
   "source": [
    "# df.to_csv(\"Prepared_DataSet2.csv\")"
   ]
  },
  {
   "source": [
    "#### Teile Datensatz in X(beschreibende Attribute) und in y(Zielvariable) auf"
   ],
   "cell_type": "markdown",
   "metadata": {}
  },
  {
   "cell_type": "code",
   "execution_count": 25,
   "metadata": {},
   "outputs": [],
   "source": [
    "y = df.y \n",
    "df = df.drop(\"y\", axis=\"columns\")"
   ]
  },
  {
   "cell_type": "code",
   "execution_count": 26,
   "metadata": {},
   "outputs": [],
   "source": [
    "X = df[list(df.columns)].values"
   ]
  },
  {
   "source": [
    "#### Bilde Trainings- und Testdaten"
   ],
   "cell_type": "markdown",
   "metadata": {}
  },
  {
   "cell_type": "code",
   "execution_count": 27,
   "metadata": {},
   "outputs": [],
   "source": [
    "X_train, X_test, y_train, y_test = train_test_split(X, y, test_size = 0.3, random_state = 42)"
   ]
  },
  {
   "source": [
    "#### Klassifikation: Logistic Regression"
   ],
   "cell_type": "markdown",
   "metadata": {}
  },
  {
   "cell_type": "code",
   "execution_count": 28,
   "metadata": {},
   "outputs": [],
   "source": [
    "from sklearn.linear_model import LogisticRegression"
   ]
  },
  {
   "cell_type": "code",
   "execution_count": 29,
   "metadata": {},
   "outputs": [],
   "source": [
    "logreg = LogisticRegression(penalty='none', solver='lbfgs')\n",
    "logreg.fit(X_train, y_train)\n",
    "y_hat_test_proba = logreg.predict(X_test)\n",
    "y_hat_test_proba2 = logreg.predict_proba(X_test)[:,1]"
   ]
  },
  {
   "source": [
    "#### Klassifikation: DecisionTreeClassifier"
   ],
   "cell_type": "markdown",
   "metadata": {}
  },
  {
   "cell_type": "code",
   "execution_count": 31,
   "metadata": {},
   "outputs": [
    {
     "output_type": "execute_result",
     "data": {
      "text/plain": [
       "0.8768995299005138"
      ]
     },
     "metadata": {},
     "execution_count": 31
    }
   ],
   "source": [
    "from sklearn.tree import DecisionTreeClassifier\n",
    "clf = DecisionTreeClassifier()\n",
    "clf.fit(X_train, y_train)\n",
    "y_hat = clf.predict(X_test)\n",
    "y_hat_prob = clf.predict_proba(X_test)[:,1]\n",
    "accuracy_score(y_test, y_hat)"
   ]
  },
  {
   "cell_type": "code",
   "execution_count": 32,
   "metadata": {},
   "outputs": [],
   "source": [
    "df_test = pd.DataFrame({\n",
    "                        \"Target_test\": y_test.values,\n",
    "                        \"Prediction_Tree\": y_hat,\n",
    "                        \"Prediction_Tree2\":y_hat_prob,\n",
    "                        \"Prediction_Logreg\": y_hat_test_proba,\n",
    "                        \"Prediction_Logreg2\": y_hat_test_proba2\n",
    "                        })"
   ]
  },
  {
   "source": [
    "Lese den bearbeiteten Datensatz ein. (Prepared_DataSet2_new.csv)"
   ],
   "cell_type": "markdown",
   "metadata": {}
  },
  {
   "cell_type": "code",
   "execution_count": 33,
   "metadata": {},
   "outputs": [
    {
     "output_type": "execute_result",
     "data": {
      "text/plain": [
       "      Target_test  Prediction_Tree  Prediction_Tree2  Prediction_Logreg  \\\n",
       "0               0                0               0.0                  0   \n",
       "1               0                0               0.0                  0   \n",
       "2               1                1               1.0                  0   \n",
       "3               1                1               1.0                  1   \n",
       "4               0                0               0.0                  0   \n",
       "...           ...              ...               ...                ...   \n",
       "9142            0                0               0.0                  0   \n",
       "9143            0                0               0.0                  0   \n",
       "9144            0                0               0.0                  0   \n",
       "9145            0                0               0.0                  0   \n",
       "9146            0                0               0.0                  0   \n",
       "\n",
       "      Prediction_Logreg2  \n",
       "0               0.014449  \n",
       "1               0.049882  \n",
       "2               0.183803  \n",
       "3               0.712080  \n",
       "4               0.039202  \n",
       "...                  ...  \n",
       "9142            0.039699  \n",
       "9143            0.127201  \n",
       "9144            0.051971  \n",
       "9145            0.074145  \n",
       "9146            0.090603  \n",
       "\n",
       "[9147 rows x 5 columns]"
      ],
      "text/html": "<div>\n<style scoped>\n    .dataframe tbody tr th:only-of-type {\n        vertical-align: middle;\n    }\n\n    .dataframe tbody tr th {\n        vertical-align: top;\n    }\n\n    .dataframe thead th {\n        text-align: right;\n    }\n</style>\n<table border=\"1\" class=\"dataframe\">\n  <thead>\n    <tr style=\"text-align: right;\">\n      <th></th>\n      <th>Target_test</th>\n      <th>Prediction_Tree</th>\n      <th>Prediction_Tree2</th>\n      <th>Prediction_Logreg</th>\n      <th>Prediction_Logreg2</th>\n    </tr>\n  </thead>\n  <tbody>\n    <tr>\n      <td>0</td>\n      <td>0</td>\n      <td>0</td>\n      <td>0.0</td>\n      <td>0</td>\n      <td>0.014449</td>\n    </tr>\n    <tr>\n      <td>1</td>\n      <td>0</td>\n      <td>0</td>\n      <td>0.0</td>\n      <td>0</td>\n      <td>0.049882</td>\n    </tr>\n    <tr>\n      <td>2</td>\n      <td>1</td>\n      <td>1</td>\n      <td>1.0</td>\n      <td>0</td>\n      <td>0.183803</td>\n    </tr>\n    <tr>\n      <td>3</td>\n      <td>1</td>\n      <td>1</td>\n      <td>1.0</td>\n      <td>1</td>\n      <td>0.712080</td>\n    </tr>\n    <tr>\n      <td>4</td>\n      <td>0</td>\n      <td>0</td>\n      <td>0.0</td>\n      <td>0</td>\n      <td>0.039202</td>\n    </tr>\n    <tr>\n      <td>...</td>\n      <td>...</td>\n      <td>...</td>\n      <td>...</td>\n      <td>...</td>\n      <td>...</td>\n    </tr>\n    <tr>\n      <td>9142</td>\n      <td>0</td>\n      <td>0</td>\n      <td>0.0</td>\n      <td>0</td>\n      <td>0.039699</td>\n    </tr>\n    <tr>\n      <td>9143</td>\n      <td>0</td>\n      <td>0</td>\n      <td>0.0</td>\n      <td>0</td>\n      <td>0.127201</td>\n    </tr>\n    <tr>\n      <td>9144</td>\n      <td>0</td>\n      <td>0</td>\n      <td>0.0</td>\n      <td>0</td>\n      <td>0.051971</td>\n    </tr>\n    <tr>\n      <td>9145</td>\n      <td>0</td>\n      <td>0</td>\n      <td>0.0</td>\n      <td>0</td>\n      <td>0.074145</td>\n    </tr>\n    <tr>\n      <td>9146</td>\n      <td>0</td>\n      <td>0</td>\n      <td>0.0</td>\n      <td>0</td>\n      <td>0.090603</td>\n    </tr>\n  </tbody>\n</table>\n<p>9147 rows × 5 columns</p>\n</div>"
     },
     "metadata": {},
     "execution_count": 33
    }
   ],
   "source": [
    "curr_df = pd.read_csv(\"Prepared_DataSet2_new.csv\", usecols=range(1,6))\n",
    "curr_df"
   ]
  },
  {
   "source": [
    "# Bewertungskriterien\n",
    "1. Treshold Metrics\n",
    "2. Ranking Metrics\n",
    "3. Probability Metrics"
   ],
   "cell_type": "markdown",
   "metadata": {}
  },
  {
   "source": [
    "# 1. Threshold Metrics \n",
    "\n",
    "Treshold Metrics sind solche, die die Klassifikationsvorhersagefehler quantifizieren.\n",
    "- Precision\n",
    "- Recall\n",
    "- F1 Score\n",
    "\n"
   ],
   "cell_type": "markdown",
   "metadata": {}
  },
  {
   "source": [
    "Übung: Berechne die Precision"
   ],
   "cell_type": "markdown",
   "metadata": {}
  },
  {
   "cell_type": "code",
   "execution_count": 34,
   "metadata": {},
   "outputs": [
    {
     "output_type": "execute_result",
     "data": {
      "text/plain": [
       "0.5161016949152543"
      ]
     },
     "metadata": {},
     "execution_count": 34
    }
   ],
   "source": [
    "# Modell 1\n",
    "from sklearn.metrics import precision_score\n",
    "precision_score(curr_df.Target_test, curr_df.Prediction_Tree)"
   ]
  },
  {
   "cell_type": "code",
   "execution_count": 35,
   "metadata": {},
   "outputs": [
    {
     "output_type": "execute_result",
     "data": {
      "text/plain": [
       "0.6705202312138728"
      ]
     },
     "metadata": {},
     "execution_count": 35
    }
   ],
   "source": [
    "# Modell 2\n",
    "precision_score(curr_df.Target_test, curr_df.Prediction_Logreg)"
   ]
  },
  {
   "source": [
    "Übung: Berechne den Recall"
   ],
   "cell_type": "markdown",
   "metadata": {}
  },
  {
   "cell_type": "code",
   "execution_count": 36,
   "metadata": {},
   "outputs": [
    {
     "output_type": "execute_result",
     "data": {
      "text/plain": [
       "0.5191815856777494"
      ]
     },
     "metadata": {},
     "execution_count": 36
    }
   ],
   "source": [
    "# Modell 1\n",
    "from sklearn.metrics import recall_score\n",
    "recall_score(curr_df.Target_test, curr_df.Prediction_Tree)"
   ]
  },
  {
   "cell_type": "code",
   "execution_count": 37,
   "metadata": {},
   "outputs": [
    {
     "output_type": "execute_result",
     "data": {
      "text/plain": [
       "0.3955669224211424"
      ]
     },
     "metadata": {},
     "execution_count": 37
    }
   ],
   "source": [
    "# Modell 2\n",
    "recall_score(curr_df.Target_test, curr_df.Prediction_Logreg)"
   ]
  },
  {
   "source": [
    "Übung: Berechne den F1 Score"
   ],
   "cell_type": "markdown",
   "metadata": {}
  },
  {
   "source": [
    "from sklearn.metrics import f1_score\n",
    "f1_score(curr_df.Target_test, curr_df.Prediction_Tree)"
   ],
   "cell_type": "code",
   "metadata": {},
   "execution_count": 38,
   "outputs": [
    {
     "output_type": "execute_result",
     "data": {
      "text/plain": [
       "0.5176370590735232"
      ]
     },
     "metadata": {},
     "execution_count": 38
    }
   ]
  },
  {
   "cell_type": "code",
   "execution_count": 39,
   "metadata": {},
   "outputs": [
    {
     "output_type": "execute_result",
     "data": {
      "text/plain": [
       "0.4975871313672923"
      ]
     },
     "metadata": {},
     "execution_count": 39
    }
   ],
   "source": [
    "f1_score(curr_df.Target_test, curr_df.Prediction_Logreg)"
   ]
  },
  {
   "source": [
    "# 2. Ranking Metrics\n",
    "\n",
    "Ranking Metrics befassen sich mehr mit der Bewertung von Klassifikatoren basierend darauf, wie effektiv sie beim Trennen von Klassen sind."
   ],
   "cell_type": "markdown",
   "metadata": {}
  },
  {
   "source": [
    "Übung: Berechne und stelle den ROC dar"
   ],
   "cell_type": "markdown",
   "metadata": {}
  },
  {
   "cell_type": "code",
   "execution_count": 40,
   "metadata": {},
   "outputs": [
    {
     "output_type": "execute_result",
     "data": {
      "text/plain": [
       "Text(0.5, 1.0, 'ROC Curve')"
      ]
     },
     "metadata": {},
     "execution_count": 40
    },
    {
     "output_type": "display_data",
     "data": {
      "text/plain": "<Figure size 432x288 with 1 Axes>",
      "image/svg+xml": "<?xml version=\"1.0\" encoding=\"utf-8\" standalone=\"no\"?>\n<!DOCTYPE svg PUBLIC \"-//W3C//DTD SVG 1.1//EN\"\n  \"http://www.w3.org/Graphics/SVG/1.1/DTD/svg11.dtd\">\n<!-- Created with matplotlib (https://matplotlib.org/) -->\n<svg height=\"277.314375pt\" version=\"1.1\" viewBox=\"0 0 385.78125 277.314375\" width=\"385.78125pt\" xmlns=\"http://www.w3.org/2000/svg\" xmlns:xlink=\"http://www.w3.org/1999/xlink\">\n <defs>\n  <style type=\"text/css\">\n*{stroke-linecap:butt;stroke-linejoin:round;}\n  </style>\n </defs>\n <g id=\"figure_1\">\n  <g id=\"patch_1\">\n   <path d=\"M 0 277.314375 \nL 385.78125 277.314375 \nL 385.78125 0 \nL 0 0 \nz\n\" style=\"fill:none;\"/>\n  </g>\n  <g id=\"axes_1\">\n   <g id=\"patch_2\">\n    <path d=\"M 43.78125 239.758125 \nL 378.58125 239.758125 \nL 378.58125 22.318125 \nL 43.78125 22.318125 \nz\n\" style=\"fill:#ffffff;\"/>\n   </g>\n   <g id=\"matplotlib.axis_1\">\n    <g id=\"xtick_1\">\n     <g id=\"line2d_1\">\n      <defs>\n       <path d=\"M 0 0 \nL 0 3.5 \n\" id=\"m32766dfde1\" style=\"stroke:#000000;stroke-width:0.8;\"/>\n      </defs>\n      <g>\n       <use style=\"stroke:#000000;stroke-width:0.8;\" x=\"58.999432\" xlink:href=\"#m32766dfde1\" y=\"239.758125\"/>\n      </g>\n     </g>\n     <g id=\"text_1\">\n      <!-- 0.0 -->\n      <defs>\n       <path d=\"M 31.78125 66.40625 \nQ 24.171875 66.40625 20.328125 58.90625 \nQ 16.5 51.421875 16.5 36.375 \nQ 16.5 21.390625 20.328125 13.890625 \nQ 24.171875 6.390625 31.78125 6.390625 \nQ 39.453125 6.390625 43.28125 13.890625 \nQ 47.125 21.390625 47.125 36.375 \nQ 47.125 51.421875 43.28125 58.90625 \nQ 39.453125 66.40625 31.78125 66.40625 \nz\nM 31.78125 74.21875 \nQ 44.046875 74.21875 50.515625 64.515625 \nQ 56.984375 54.828125 56.984375 36.375 \nQ 56.984375 17.96875 50.515625 8.265625 \nQ 44.046875 -1.421875 31.78125 -1.421875 \nQ 19.53125 -1.421875 13.0625 8.265625 \nQ 6.59375 17.96875 6.59375 36.375 \nQ 6.59375 54.828125 13.0625 64.515625 \nQ 19.53125 74.21875 31.78125 74.21875 \nz\n\" id=\"DejaVuSans-48\"/>\n       <path d=\"M 10.6875 12.40625 \nL 21 12.40625 \nL 21 0 \nL 10.6875 0 \nz\n\" id=\"DejaVuSans-46\"/>\n      </defs>\n      <g transform=\"translate(51.047869 254.356562)scale(0.1 -0.1)\">\n       <use xlink:href=\"#DejaVuSans-48\"/>\n       <use x=\"63.623047\" xlink:href=\"#DejaVuSans-46\"/>\n       <use x=\"95.410156\" xlink:href=\"#DejaVuSans-48\"/>\n      </g>\n     </g>\n    </g>\n    <g id=\"xtick_2\">\n     <g id=\"line2d_2\">\n      <g>\n       <use style=\"stroke:#000000;stroke-width:0.8;\" x=\"119.872159\" xlink:href=\"#m32766dfde1\" y=\"239.758125\"/>\n      </g>\n     </g>\n     <g id=\"text_2\">\n      <!-- 0.2 -->\n      <defs>\n       <path d=\"M 19.1875 8.296875 \nL 53.609375 8.296875 \nL 53.609375 0 \nL 7.328125 0 \nL 7.328125 8.296875 \nQ 12.9375 14.109375 22.625 23.890625 \nQ 32.328125 33.6875 34.8125 36.53125 \nQ 39.546875 41.84375 41.421875 45.53125 \nQ 43.3125 49.21875 43.3125 52.78125 \nQ 43.3125 58.59375 39.234375 62.25 \nQ 35.15625 65.921875 28.609375 65.921875 \nQ 23.96875 65.921875 18.8125 64.3125 \nQ 13.671875 62.703125 7.8125 59.421875 \nL 7.8125 69.390625 \nQ 13.765625 71.78125 18.9375 73 \nQ 24.125 74.21875 28.421875 74.21875 \nQ 39.75 74.21875 46.484375 68.546875 \nQ 53.21875 62.890625 53.21875 53.421875 \nQ 53.21875 48.921875 51.53125 44.890625 \nQ 49.859375 40.875 45.40625 35.40625 \nQ 44.1875 33.984375 37.640625 27.21875 \nQ 31.109375 20.453125 19.1875 8.296875 \nz\n\" id=\"DejaVuSans-50\"/>\n      </defs>\n      <g transform=\"translate(111.920597 254.356562)scale(0.1 -0.1)\">\n       <use xlink:href=\"#DejaVuSans-48\"/>\n       <use x=\"63.623047\" xlink:href=\"#DejaVuSans-46\"/>\n       <use x=\"95.410156\" xlink:href=\"#DejaVuSans-50\"/>\n      </g>\n     </g>\n    </g>\n    <g id=\"xtick_3\">\n     <g id=\"line2d_3\">\n      <g>\n       <use style=\"stroke:#000000;stroke-width:0.8;\" x=\"180.744886\" xlink:href=\"#m32766dfde1\" y=\"239.758125\"/>\n      </g>\n     </g>\n     <g id=\"text_3\">\n      <!-- 0.4 -->\n      <defs>\n       <path d=\"M 37.796875 64.3125 \nL 12.890625 25.390625 \nL 37.796875 25.390625 \nz\nM 35.203125 72.90625 \nL 47.609375 72.90625 \nL 47.609375 25.390625 \nL 58.015625 25.390625 \nL 58.015625 17.1875 \nL 47.609375 17.1875 \nL 47.609375 0 \nL 37.796875 0 \nL 37.796875 17.1875 \nL 4.890625 17.1875 \nL 4.890625 26.703125 \nz\n\" id=\"DejaVuSans-52\"/>\n      </defs>\n      <g transform=\"translate(172.793324 254.356562)scale(0.1 -0.1)\">\n       <use xlink:href=\"#DejaVuSans-48\"/>\n       <use x=\"63.623047\" xlink:href=\"#DejaVuSans-46\"/>\n       <use x=\"95.410156\" xlink:href=\"#DejaVuSans-52\"/>\n      </g>\n     </g>\n    </g>\n    <g id=\"xtick_4\">\n     <g id=\"line2d_4\">\n      <g>\n       <use style=\"stroke:#000000;stroke-width:0.8;\" x=\"241.617614\" xlink:href=\"#m32766dfde1\" y=\"239.758125\"/>\n      </g>\n     </g>\n     <g id=\"text_4\">\n      <!-- 0.6 -->\n      <defs>\n       <path d=\"M 33.015625 40.375 \nQ 26.375 40.375 22.484375 35.828125 \nQ 18.609375 31.296875 18.609375 23.390625 \nQ 18.609375 15.53125 22.484375 10.953125 \nQ 26.375 6.390625 33.015625 6.390625 \nQ 39.65625 6.390625 43.53125 10.953125 \nQ 47.40625 15.53125 47.40625 23.390625 \nQ 47.40625 31.296875 43.53125 35.828125 \nQ 39.65625 40.375 33.015625 40.375 \nz\nM 52.59375 71.296875 \nL 52.59375 62.3125 \nQ 48.875 64.0625 45.09375 64.984375 \nQ 41.3125 65.921875 37.59375 65.921875 \nQ 27.828125 65.921875 22.671875 59.328125 \nQ 17.53125 52.734375 16.796875 39.40625 \nQ 19.671875 43.65625 24.015625 45.921875 \nQ 28.375 48.1875 33.59375 48.1875 \nQ 44.578125 48.1875 50.953125 41.515625 \nQ 57.328125 34.859375 57.328125 23.390625 \nQ 57.328125 12.15625 50.6875 5.359375 \nQ 44.046875 -1.421875 33.015625 -1.421875 \nQ 20.359375 -1.421875 13.671875 8.265625 \nQ 6.984375 17.96875 6.984375 36.375 \nQ 6.984375 53.65625 15.1875 63.9375 \nQ 23.390625 74.21875 37.203125 74.21875 \nQ 40.921875 74.21875 44.703125 73.484375 \nQ 48.484375 72.75 52.59375 71.296875 \nz\n\" id=\"DejaVuSans-54\"/>\n      </defs>\n      <g transform=\"translate(233.666051 254.356562)scale(0.1 -0.1)\">\n       <use xlink:href=\"#DejaVuSans-48\"/>\n       <use x=\"63.623047\" xlink:href=\"#DejaVuSans-46\"/>\n       <use x=\"95.410156\" xlink:href=\"#DejaVuSans-54\"/>\n      </g>\n     </g>\n    </g>\n    <g id=\"xtick_5\">\n     <g id=\"line2d_5\">\n      <g>\n       <use style=\"stroke:#000000;stroke-width:0.8;\" x=\"302.490341\" xlink:href=\"#m32766dfde1\" y=\"239.758125\"/>\n      </g>\n     </g>\n     <g id=\"text_5\">\n      <!-- 0.8 -->\n      <defs>\n       <path d=\"M 31.78125 34.625 \nQ 24.75 34.625 20.71875 30.859375 \nQ 16.703125 27.09375 16.703125 20.515625 \nQ 16.703125 13.921875 20.71875 10.15625 \nQ 24.75 6.390625 31.78125 6.390625 \nQ 38.8125 6.390625 42.859375 10.171875 \nQ 46.921875 13.96875 46.921875 20.515625 \nQ 46.921875 27.09375 42.890625 30.859375 \nQ 38.875 34.625 31.78125 34.625 \nz\nM 21.921875 38.8125 \nQ 15.578125 40.375 12.03125 44.71875 \nQ 8.5 49.078125 8.5 55.328125 \nQ 8.5 64.0625 14.71875 69.140625 \nQ 20.953125 74.21875 31.78125 74.21875 \nQ 42.671875 74.21875 48.875 69.140625 \nQ 55.078125 64.0625 55.078125 55.328125 \nQ 55.078125 49.078125 51.53125 44.71875 \nQ 48 40.375 41.703125 38.8125 \nQ 48.828125 37.15625 52.796875 32.3125 \nQ 56.78125 27.484375 56.78125 20.515625 \nQ 56.78125 9.90625 50.3125 4.234375 \nQ 43.84375 -1.421875 31.78125 -1.421875 \nQ 19.734375 -1.421875 13.25 4.234375 \nQ 6.78125 9.90625 6.78125 20.515625 \nQ 6.78125 27.484375 10.78125 32.3125 \nQ 14.796875 37.15625 21.921875 38.8125 \nz\nM 18.3125 54.390625 \nQ 18.3125 48.734375 21.84375 45.5625 \nQ 25.390625 42.390625 31.78125 42.390625 \nQ 38.140625 42.390625 41.71875 45.5625 \nQ 45.3125 48.734375 45.3125 54.390625 \nQ 45.3125 60.0625 41.71875 63.234375 \nQ 38.140625 66.40625 31.78125 66.40625 \nQ 25.390625 66.40625 21.84375 63.234375 \nQ 18.3125 60.0625 18.3125 54.390625 \nz\n\" id=\"DejaVuSans-56\"/>\n      </defs>\n      <g transform=\"translate(294.538778 254.356562)scale(0.1 -0.1)\">\n       <use xlink:href=\"#DejaVuSans-48\"/>\n       <use x=\"63.623047\" xlink:href=\"#DejaVuSans-46\"/>\n       <use x=\"95.410156\" xlink:href=\"#DejaVuSans-56\"/>\n      </g>\n     </g>\n    </g>\n    <g id=\"xtick_6\">\n     <g id=\"line2d_6\">\n      <g>\n       <use style=\"stroke:#000000;stroke-width:0.8;\" x=\"363.363068\" xlink:href=\"#m32766dfde1\" y=\"239.758125\"/>\n      </g>\n     </g>\n     <g id=\"text_6\">\n      <!-- 1.0 -->\n      <defs>\n       <path d=\"M 12.40625 8.296875 \nL 28.515625 8.296875 \nL 28.515625 63.921875 \nL 10.984375 60.40625 \nL 10.984375 69.390625 \nL 28.421875 72.90625 \nL 38.28125 72.90625 \nL 38.28125 8.296875 \nL 54.390625 8.296875 \nL 54.390625 0 \nL 12.40625 0 \nz\n\" id=\"DejaVuSans-49\"/>\n      </defs>\n      <g transform=\"translate(355.411506 254.356562)scale(0.1 -0.1)\">\n       <use xlink:href=\"#DejaVuSans-49\"/>\n       <use x=\"63.623047\" xlink:href=\"#DejaVuSans-46\"/>\n       <use x=\"95.410156\" xlink:href=\"#DejaVuSans-48\"/>\n      </g>\n     </g>\n    </g>\n    <g id=\"text_7\">\n     <!-- False Positve Rate -->\n     <defs>\n      <path d=\"M 9.8125 72.90625 \nL 51.703125 72.90625 \nL 51.703125 64.59375 \nL 19.671875 64.59375 \nL 19.671875 43.109375 \nL 48.578125 43.109375 \nL 48.578125 34.8125 \nL 19.671875 34.8125 \nL 19.671875 0 \nL 9.8125 0 \nz\n\" id=\"DejaVuSans-70\"/>\n      <path d=\"M 34.28125 27.484375 \nQ 23.390625 27.484375 19.1875 25 \nQ 14.984375 22.515625 14.984375 16.5 \nQ 14.984375 11.71875 18.140625 8.90625 \nQ 21.296875 6.109375 26.703125 6.109375 \nQ 34.1875 6.109375 38.703125 11.40625 \nQ 43.21875 16.703125 43.21875 25.484375 \nL 43.21875 27.484375 \nz\nM 52.203125 31.203125 \nL 52.203125 0 \nL 43.21875 0 \nL 43.21875 8.296875 \nQ 40.140625 3.328125 35.546875 0.953125 \nQ 30.953125 -1.421875 24.3125 -1.421875 \nQ 15.921875 -1.421875 10.953125 3.296875 \nQ 6 8.015625 6 15.921875 \nQ 6 25.140625 12.171875 29.828125 \nQ 18.359375 34.515625 30.609375 34.515625 \nL 43.21875 34.515625 \nL 43.21875 35.40625 \nQ 43.21875 41.609375 39.140625 45 \nQ 35.0625 48.390625 27.6875 48.390625 \nQ 23 48.390625 18.546875 47.265625 \nQ 14.109375 46.140625 10.015625 43.890625 \nL 10.015625 52.203125 \nQ 14.9375 54.109375 19.578125 55.046875 \nQ 24.21875 56 28.609375 56 \nQ 40.484375 56 46.34375 49.84375 \nQ 52.203125 43.703125 52.203125 31.203125 \nz\n\" id=\"DejaVuSans-97\"/>\n      <path d=\"M 9.421875 75.984375 \nL 18.40625 75.984375 \nL 18.40625 0 \nL 9.421875 0 \nz\n\" id=\"DejaVuSans-108\"/>\n      <path d=\"M 44.28125 53.078125 \nL 44.28125 44.578125 \nQ 40.484375 46.53125 36.375 47.5 \nQ 32.28125 48.484375 27.875 48.484375 \nQ 21.1875 48.484375 17.84375 46.4375 \nQ 14.5 44.390625 14.5 40.28125 \nQ 14.5 37.15625 16.890625 35.375 \nQ 19.28125 33.59375 26.515625 31.984375 \nL 29.59375 31.296875 \nQ 39.15625 29.25 43.1875 25.515625 \nQ 47.21875 21.78125 47.21875 15.09375 \nQ 47.21875 7.46875 41.1875 3.015625 \nQ 35.15625 -1.421875 24.609375 -1.421875 \nQ 20.21875 -1.421875 15.453125 -0.5625 \nQ 10.6875 0.296875 5.421875 2 \nL 5.421875 11.28125 \nQ 10.40625 8.6875 15.234375 7.390625 \nQ 20.0625 6.109375 24.8125 6.109375 \nQ 31.15625 6.109375 34.5625 8.28125 \nQ 37.984375 10.453125 37.984375 14.40625 \nQ 37.984375 18.0625 35.515625 20.015625 \nQ 33.0625 21.96875 24.703125 23.78125 \nL 21.578125 24.515625 \nQ 13.234375 26.265625 9.515625 29.90625 \nQ 5.8125 33.546875 5.8125 39.890625 \nQ 5.8125 47.609375 11.28125 51.796875 \nQ 16.75 56 26.8125 56 \nQ 31.78125 56 36.171875 55.265625 \nQ 40.578125 54.546875 44.28125 53.078125 \nz\n\" id=\"DejaVuSans-115\"/>\n      <path d=\"M 56.203125 29.59375 \nL 56.203125 25.203125 \nL 14.890625 25.203125 \nQ 15.484375 15.921875 20.484375 11.0625 \nQ 25.484375 6.203125 34.421875 6.203125 \nQ 39.59375 6.203125 44.453125 7.46875 \nQ 49.3125 8.734375 54.109375 11.28125 \nL 54.109375 2.78125 \nQ 49.265625 0.734375 44.1875 -0.34375 \nQ 39.109375 -1.421875 33.890625 -1.421875 \nQ 20.796875 -1.421875 13.15625 6.1875 \nQ 5.515625 13.8125 5.515625 26.8125 \nQ 5.515625 40.234375 12.765625 48.109375 \nQ 20.015625 56 32.328125 56 \nQ 43.359375 56 49.78125 48.890625 \nQ 56.203125 41.796875 56.203125 29.59375 \nz\nM 47.21875 32.234375 \nQ 47.125 39.59375 43.09375 43.984375 \nQ 39.0625 48.390625 32.421875 48.390625 \nQ 24.90625 48.390625 20.390625 44.140625 \nQ 15.875 39.890625 15.1875 32.171875 \nz\n\" id=\"DejaVuSans-101\"/>\n      <path id=\"DejaVuSans-32\"/>\n      <path d=\"M 19.671875 64.796875 \nL 19.671875 37.40625 \nL 32.078125 37.40625 \nQ 38.96875 37.40625 42.71875 40.96875 \nQ 46.484375 44.53125 46.484375 51.125 \nQ 46.484375 57.671875 42.71875 61.234375 \nQ 38.96875 64.796875 32.078125 64.796875 \nz\nM 9.8125 72.90625 \nL 32.078125 72.90625 \nQ 44.34375 72.90625 50.609375 67.359375 \nQ 56.890625 61.8125 56.890625 51.125 \nQ 56.890625 40.328125 50.609375 34.8125 \nQ 44.34375 29.296875 32.078125 29.296875 \nL 19.671875 29.296875 \nL 19.671875 0 \nL 9.8125 0 \nz\n\" id=\"DejaVuSans-80\"/>\n      <path d=\"M 30.609375 48.390625 \nQ 23.390625 48.390625 19.1875 42.75 \nQ 14.984375 37.109375 14.984375 27.296875 \nQ 14.984375 17.484375 19.15625 11.84375 \nQ 23.34375 6.203125 30.609375 6.203125 \nQ 37.796875 6.203125 41.984375 11.859375 \nQ 46.1875 17.53125 46.1875 27.296875 \nQ 46.1875 37.015625 41.984375 42.703125 \nQ 37.796875 48.390625 30.609375 48.390625 \nz\nM 30.609375 56 \nQ 42.328125 56 49.015625 48.375 \nQ 55.71875 40.765625 55.71875 27.296875 \nQ 55.71875 13.875 49.015625 6.21875 \nQ 42.328125 -1.421875 30.609375 -1.421875 \nQ 18.84375 -1.421875 12.171875 6.21875 \nQ 5.515625 13.875 5.515625 27.296875 \nQ 5.515625 40.765625 12.171875 48.375 \nQ 18.84375 56 30.609375 56 \nz\n\" id=\"DejaVuSans-111\"/>\n      <path d=\"M 9.421875 54.6875 \nL 18.40625 54.6875 \nL 18.40625 0 \nL 9.421875 0 \nz\nM 9.421875 75.984375 \nL 18.40625 75.984375 \nL 18.40625 64.59375 \nL 9.421875 64.59375 \nz\n\" id=\"DejaVuSans-105\"/>\n      <path d=\"M 18.3125 70.21875 \nL 18.3125 54.6875 \nL 36.8125 54.6875 \nL 36.8125 47.703125 \nL 18.3125 47.703125 \nL 18.3125 18.015625 \nQ 18.3125 11.328125 20.140625 9.421875 \nQ 21.96875 7.515625 27.59375 7.515625 \nL 36.8125 7.515625 \nL 36.8125 0 \nL 27.59375 0 \nQ 17.1875 0 13.234375 3.875 \nQ 9.28125 7.765625 9.28125 18.015625 \nL 9.28125 47.703125 \nL 2.6875 47.703125 \nL 2.6875 54.6875 \nL 9.28125 54.6875 \nL 9.28125 70.21875 \nz\n\" id=\"DejaVuSans-116\"/>\n      <path d=\"M 2.984375 54.6875 \nL 12.5 54.6875 \nL 29.59375 8.796875 \nL 46.6875 54.6875 \nL 56.203125 54.6875 \nL 35.6875 0 \nL 23.484375 0 \nz\n\" id=\"DejaVuSans-118\"/>\n      <path d=\"M 44.390625 34.1875 \nQ 47.5625 33.109375 50.5625 29.59375 \nQ 53.5625 26.078125 56.59375 19.921875 \nL 66.609375 0 \nL 56 0 \nL 46.6875 18.703125 \nQ 43.0625 26.03125 39.671875 28.421875 \nQ 36.28125 30.8125 30.421875 30.8125 \nL 19.671875 30.8125 \nL 19.671875 0 \nL 9.8125 0 \nL 9.8125 72.90625 \nL 32.078125 72.90625 \nQ 44.578125 72.90625 50.734375 67.671875 \nQ 56.890625 62.453125 56.890625 51.90625 \nQ 56.890625 45.015625 53.6875 40.46875 \nQ 50.484375 35.9375 44.390625 34.1875 \nz\nM 19.671875 64.796875 \nL 19.671875 38.921875 \nL 32.078125 38.921875 \nQ 39.203125 38.921875 42.84375 42.21875 \nQ 46.484375 45.515625 46.484375 51.90625 \nQ 46.484375 58.296875 42.84375 61.546875 \nQ 39.203125 64.796875 32.078125 64.796875 \nz\n\" id=\"DejaVuSans-82\"/>\n     </defs>\n     <g transform=\"translate(165.364844 268.034687)scale(0.1 -0.1)\">\n      <use xlink:href=\"#DejaVuSans-70\"/>\n      <use x=\"57.378906\" xlink:href=\"#DejaVuSans-97\"/>\n      <use x=\"118.658203\" xlink:href=\"#DejaVuSans-108\"/>\n      <use x=\"146.441406\" xlink:href=\"#DejaVuSans-115\"/>\n      <use x=\"198.541016\" xlink:href=\"#DejaVuSans-101\"/>\n      <use x=\"260.064453\" xlink:href=\"#DejaVuSans-32\"/>\n      <use x=\"291.851562\" xlink:href=\"#DejaVuSans-80\"/>\n      <use x=\"352.107422\" xlink:href=\"#DejaVuSans-111\"/>\n      <use x=\"413.289062\" xlink:href=\"#DejaVuSans-115\"/>\n      <use x=\"465.388672\" xlink:href=\"#DejaVuSans-105\"/>\n      <use x=\"493.171875\" xlink:href=\"#DejaVuSans-116\"/>\n      <use x=\"532.380859\" xlink:href=\"#DejaVuSans-118\"/>\n      <use x=\"591.560547\" xlink:href=\"#DejaVuSans-101\"/>\n      <use x=\"653.083984\" xlink:href=\"#DejaVuSans-32\"/>\n      <use x=\"684.871094\" xlink:href=\"#DejaVuSans-82\"/>\n      <use x=\"754.322266\" xlink:href=\"#DejaVuSans-97\"/>\n      <use x=\"815.601562\" xlink:href=\"#DejaVuSans-116\"/>\n      <use x=\"854.810547\" xlink:href=\"#DejaVuSans-101\"/>\n     </g>\n    </g>\n   </g>\n   <g id=\"matplotlib.axis_2\">\n    <g id=\"ytick_1\">\n     <g id=\"line2d_7\">\n      <defs>\n       <path d=\"M 0 0 \nL -3.5 0 \n\" id=\"m3ddf012736\" style=\"stroke:#000000;stroke-width:0.8;\"/>\n      </defs>\n      <g>\n       <use style=\"stroke:#000000;stroke-width:0.8;\" x=\"43.78125\" xlink:href=\"#m3ddf012736\" y=\"229.874489\"/>\n      </g>\n     </g>\n     <g id=\"text_8\">\n      <!-- 0.0 -->\n      <g transform=\"translate(20.878125 233.673707)scale(0.1 -0.1)\">\n       <use xlink:href=\"#DejaVuSans-48\"/>\n       <use x=\"63.623047\" xlink:href=\"#DejaVuSans-46\"/>\n       <use x=\"95.410156\" xlink:href=\"#DejaVuSans-48\"/>\n      </g>\n     </g>\n    </g>\n    <g id=\"ytick_2\">\n     <g id=\"line2d_8\">\n      <g>\n       <use style=\"stroke:#000000;stroke-width:0.8;\" x=\"43.78125\" xlink:href=\"#m3ddf012736\" y=\"190.339943\"/>\n      </g>\n     </g>\n     <g id=\"text_9\">\n      <!-- 0.2 -->\n      <g transform=\"translate(20.878125 194.139162)scale(0.1 -0.1)\">\n       <use xlink:href=\"#DejaVuSans-48\"/>\n       <use x=\"63.623047\" xlink:href=\"#DejaVuSans-46\"/>\n       <use x=\"95.410156\" xlink:href=\"#DejaVuSans-50\"/>\n      </g>\n     </g>\n    </g>\n    <g id=\"ytick_3\">\n     <g id=\"line2d_9\">\n      <g>\n       <use style=\"stroke:#000000;stroke-width:0.8;\" x=\"43.78125\" xlink:href=\"#m3ddf012736\" y=\"150.805398\"/>\n      </g>\n     </g>\n     <g id=\"text_10\">\n      <!-- 0.4 -->\n      <g transform=\"translate(20.878125 154.604616)scale(0.1 -0.1)\">\n       <use xlink:href=\"#DejaVuSans-48\"/>\n       <use x=\"63.623047\" xlink:href=\"#DejaVuSans-46\"/>\n       <use x=\"95.410156\" xlink:href=\"#DejaVuSans-52\"/>\n      </g>\n     </g>\n    </g>\n    <g id=\"ytick_4\">\n     <g id=\"line2d_10\">\n      <g>\n       <use style=\"stroke:#000000;stroke-width:0.8;\" x=\"43.78125\" xlink:href=\"#m3ddf012736\" y=\"111.270852\"/>\n      </g>\n     </g>\n     <g id=\"text_11\">\n      <!-- 0.6 -->\n      <g transform=\"translate(20.878125 115.070071)scale(0.1 -0.1)\">\n       <use xlink:href=\"#DejaVuSans-48\"/>\n       <use x=\"63.623047\" xlink:href=\"#DejaVuSans-46\"/>\n       <use x=\"95.410156\" xlink:href=\"#DejaVuSans-54\"/>\n      </g>\n     </g>\n    </g>\n    <g id=\"ytick_5\">\n     <g id=\"line2d_11\">\n      <g>\n       <use style=\"stroke:#000000;stroke-width:0.8;\" x=\"43.78125\" xlink:href=\"#m3ddf012736\" y=\"71.736307\"/>\n      </g>\n     </g>\n     <g id=\"text_12\">\n      <!-- 0.8 -->\n      <g transform=\"translate(20.878125 75.535526)scale(0.1 -0.1)\">\n       <use xlink:href=\"#DejaVuSans-48\"/>\n       <use x=\"63.623047\" xlink:href=\"#DejaVuSans-46\"/>\n       <use x=\"95.410156\" xlink:href=\"#DejaVuSans-56\"/>\n      </g>\n     </g>\n    </g>\n    <g id=\"ytick_6\">\n     <g id=\"line2d_12\">\n      <g>\n       <use style=\"stroke:#000000;stroke-width:0.8;\" x=\"43.78125\" xlink:href=\"#m3ddf012736\" y=\"32.201761\"/>\n      </g>\n     </g>\n     <g id=\"text_13\">\n      <!-- 1.0 -->\n      <g transform=\"translate(20.878125 36.00098)scale(0.1 -0.1)\">\n       <use xlink:href=\"#DejaVuSans-49\"/>\n       <use x=\"63.623047\" xlink:href=\"#DejaVuSans-46\"/>\n       <use x=\"95.410156\" xlink:href=\"#DejaVuSans-48\"/>\n      </g>\n     </g>\n    </g>\n    <g id=\"text_14\">\n     <!-- True Positve Rate -->\n     <defs>\n      <path d=\"M -0.296875 72.90625 \nL 61.375 72.90625 \nL 61.375 64.59375 \nL 35.5 64.59375 \nL 35.5 0 \nL 25.59375 0 \nL 25.59375 64.59375 \nL -0.296875 64.59375 \nz\n\" id=\"DejaVuSans-84\"/>\n      <path d=\"M 41.109375 46.296875 \nQ 39.59375 47.171875 37.8125 47.578125 \nQ 36.03125 48 33.890625 48 \nQ 26.265625 48 22.1875 43.046875 \nQ 18.109375 38.09375 18.109375 28.8125 \nL 18.109375 0 \nL 9.078125 0 \nL 9.078125 54.6875 \nL 18.109375 54.6875 \nL 18.109375 46.1875 \nQ 20.953125 51.171875 25.484375 53.578125 \nQ 30.03125 56 36.53125 56 \nQ 37.453125 56 38.578125 55.875 \nQ 39.703125 55.765625 41.0625 55.515625 \nz\n\" id=\"DejaVuSans-114\"/>\n      <path d=\"M 8.5 21.578125 \nL 8.5 54.6875 \nL 17.484375 54.6875 \nL 17.484375 21.921875 \nQ 17.484375 14.15625 20.5 10.265625 \nQ 23.53125 6.390625 29.59375 6.390625 \nQ 36.859375 6.390625 41.078125 11.03125 \nQ 45.3125 15.671875 45.3125 23.6875 \nL 45.3125 54.6875 \nL 54.296875 54.6875 \nL 54.296875 0 \nL 45.3125 0 \nL 45.3125 8.40625 \nQ 42.046875 3.421875 37.71875 1 \nQ 33.40625 -1.421875 27.6875 -1.421875 \nQ 18.265625 -1.421875 13.375 4.4375 \nQ 8.5 10.296875 8.5 21.578125 \nz\nM 31.109375 56 \nz\n\" id=\"DejaVuSans-117\"/>\n     </defs>\n     <g transform=\"translate(14.798438 175.195156)rotate(-90)scale(0.1 -0.1)\">\n      <use xlink:href=\"#DejaVuSans-84\"/>\n      <use x=\"60.865234\" xlink:href=\"#DejaVuSans-114\"/>\n      <use x=\"101.978516\" xlink:href=\"#DejaVuSans-117\"/>\n      <use x=\"165.357422\" xlink:href=\"#DejaVuSans-101\"/>\n      <use x=\"226.880859\" xlink:href=\"#DejaVuSans-32\"/>\n      <use x=\"258.667969\" xlink:href=\"#DejaVuSans-80\"/>\n      <use x=\"318.923828\" xlink:href=\"#DejaVuSans-111\"/>\n      <use x=\"380.105469\" xlink:href=\"#DejaVuSans-115\"/>\n      <use x=\"432.205078\" xlink:href=\"#DejaVuSans-105\"/>\n      <use x=\"459.988281\" xlink:href=\"#DejaVuSans-116\"/>\n      <use x=\"499.197266\" xlink:href=\"#DejaVuSans-118\"/>\n      <use x=\"558.376953\" xlink:href=\"#DejaVuSans-101\"/>\n      <use x=\"619.900391\" xlink:href=\"#DejaVuSans-32\"/>\n      <use x=\"651.6875\" xlink:href=\"#DejaVuSans-82\"/>\n      <use x=\"721.138672\" xlink:href=\"#DejaVuSans-97\"/>\n      <use x=\"782.417969\" xlink:href=\"#DejaVuSans-116\"/>\n      <use x=\"821.626953\" xlink:href=\"#DejaVuSans-101\"/>\n     </g>\n    </g>\n   </g>\n   <g id=\"line2d_13\">\n    <path clip-path=\"url(#p37e8178db0)\" d=\"M 58.999432 229.874489 \nL 59.075771 229.874489 \nL 59.075771 229.70597 \nL 59.228449 229.70597 \nL 59.304788 228.694856 \nL 59.342957 228.694856 \nL 59.419296 225.661515 \nL 59.457466 225.661515 \nL 59.533805 223.470769 \nL 59.571974 223.470769 \nL 59.648313 221.785579 \nL 59.724652 221.785579 \nL 59.762822 221.111503 \nL 59.87733 221.111503 \nL 59.953669 219.931871 \nL 59.991839 219.931871 \nL 60.068178 217.404086 \nL 60.106347 217.404086 \nL 60.106347 216.730011 \nL 60.220856 216.730011 \nL 60.297195 211.842961 \nL 60.373534 211.842961 \nL 60.449873 211.337404 \nL 60.488043 211.337404 \nL 60.564382 209.820734 \nL 60.67889 209.820734 \nL 60.755229 209.146658 \nL 60.793399 209.146658 \nL 60.869738 208.472582 \nL 60.907907 208.472582 \nL 60.984246 207.629987 \nL 61.175094 207.629987 \nL 61.251433 206.113317 \nL 61.289602 206.113317 \nL 61.365941 204.596646 \nL 61.404111 204.596646 \nL 61.48045 203.079976 \nL 61.518619 203.079976 \nL 61.556789 201.394786 \nL 61.633128 201.394786 \nL 61.709467 200.889229 \nL 61.747636 200.889229 \nL 61.823975 198.529964 \nL 61.862145 198.529964 \nL 61.938484 196.676256 \nL 61.976653 196.676256 \nL 62.052992 195.496623 \nL 62.091162 195.496623 \nL 62.167501 193.979952 \nL 62.282009 193.979952 \nL 62.358348 192.463282 \nL 62.396518 192.463282 \nL 62.472857 191.11513 \nL 62.549196 191.11513 \nL 62.625535 189.261422 \nL 62.663704 189.261422 \nL 62.740043 186.902157 \nL 62.816382 186.902157 \nL 62.892721 184.542891 \nL 62.930891 184.542891 \nL 63.00723 182.689183 \nL 63.045399 182.689183 \nL 63.045399 182.520664 \nL 63.159908 182.520664 \nL 63.236247 180.498437 \nL 63.312586 180.498437 \nL 63.388925 177.802133 \nL 63.427094 177.802133 \nL 63.503433 177.296577 \nL 63.541603 177.296577 \nL 63.617942 175.442868 \nL 63.694281 175.442868 \nL 63.77062 174.094716 \nL 63.80879 174.094716 \nL 63.885129 172.409527 \nL 63.923298 172.409527 \nL 63.999637 170.724338 \nL 64.037807 170.724338 \nL 64.075976 169.881743 \nL 64.228654 169.881743 \nL 64.228654 169.713224 \nL 64.343163 169.713224 \nL 64.419502 168.70211 \nL 64.457671 168.70211 \nL 64.495841 168.196553 \nL 64.610349 168.196553 \nL 64.686688 167.522477 \nL 64.724858 167.522477 \nL 64.724858 167.353959 \nL 64.839366 167.353959 \nL 64.839366 167.18544 \nL 64.953875 167.18544 \nL 64.992044 165.668769 \nL 65.068383 165.668769 \nL 65.144722 164.994693 \nL 65.182892 164.994693 \nL 65.259231 163.98358 \nL 65.2974 163.98358 \nL 65.373739 163.478023 \nL 65.411909 163.478023 \nL 65.488248 161.792833 \nL 65.526417 161.792833 \nL 65.602756 160.444682 \nL 65.755434 160.444682 \nL 65.831773 159.09653 \nL 65.869943 159.09653 \nL 65.946282 158.759492 \nL 66.022621 158.759492 \nL 66.022621 158.085416 \nL 66.137129 158.085416 \nL 66.175299 157.074303 \nL 66.251638 157.074303 \nL 66.327977 156.568746 \nL 66.404316 156.568746 \nL 66.480655 155.89467 \nL 66.518824 155.89467 \nL 66.518824 154.546518 \nL 66.671502 154.546518 \nL 66.747841 154.20948 \nL 66.82418 154.20948 \nL 66.86235 153.366886 \nL 66.938689 153.366886 \nL 66.938689 153.029848 \nL 67.129536 153.029848 \nL 67.129536 152.861329 \nL 67.244045 152.861329 \nL 67.244045 152.69281 \nL 67.396723 152.69281 \nL 67.434893 152.018734 \nL 67.62574 152.018734 \nL 67.702079 151.513177 \nL 67.778418 151.513177 \nL 67.854757 151.176139 \nL 67.931096 151.176139 \nL 68.007435 150.670583 \nL 68.045605 150.670583 \nL 68.083774 149.322431 \nL 68.160113 149.322431 \nL 68.236452 148.985393 \nL 68.312791 148.985393 \nL 68.38913 147.974279 \nL 68.4273 147.974279 \nL 68.465469 146.963166 \nL 68.579978 146.963166 \nL 68.656317 146.120571 \nL 68.694486 146.120571 \nL 68.770825 145.277976 \nL 68.847164 145.277976 \nL 68.847164 145.109457 \nL 68.961673 145.109457 \nL 68.999842 144.6039 \nL 69.076181 144.6039 \nL 69.076181 144.435381 \nL 69.267029 144.435381 \nL 69.305198 144.098344 \nL 69.381537 144.098344 \nL 69.457876 142.750192 \nL 69.496046 142.750192 \nL 69.496046 142.413154 \nL 69.610554 142.413154 \nL 69.610554 142.244635 \nL 69.763232 142.244635 \nL 69.839571 141.40204 \nL 69.95408 141.40204 \nL 70.030419 140.559446 \nL 70.106758 140.559446 \nL 70.183097 139.042775 \nL 70.221266 139.042775 \nL 70.297605 138.537218 \nL 70.335775 138.537218 \nL 70.412114 137.189067 \nL 70.450283 137.189067 \nL 70.450283 136.852029 \nL 70.564792 136.852029 \nL 70.602961 134.99832 \nL 70.71747 134.99832 \nL 70.793809 133.818688 \nL 70.870148 133.818688 \nL 70.946487 132.976093 \nL 70.984657 132.976093 \nL 71.022826 132.639055 \nL 71.099165 132.639055 \nL 71.137335 131.79646 \nL 71.213674 131.79646 \nL 71.290013 130.448309 \nL 71.404521 130.448309 \nL 71.48086 129.100157 \nL 71.595369 129.100157 \nL 71.671708 127.920524 \nL 71.709877 127.920524 \nL 71.786216 126.403854 \nL 71.862555 126.403854 \nL 71.862555 126.066816 \nL 71.977064 126.066816 \nL 72.053403 125.561259 \nL 72.091572 125.561259 \nL 72.129742 125.224221 \nL 72.320589 125.224221 \nL 72.320589 125.055702 \nL 72.435098 125.055702 \nL 72.435098 124.381627 \nL 72.587776 124.381627 \nL 72.664115 123.707551 \nL 72.702284 123.707551 \nL 72.778623 123.201994 \nL 72.854962 123.201994 \nL 72.893132 122.527918 \nL 72.969471 122.527918 \nL 73.04581 121.853842 \nL 73.274827 121.853842 \nL 73.312996 121.516804 \nL 73.542013 121.516804 \nL 73.542013 121.348285 \nL 73.694691 121.348285 \nL 73.77103 120.168653 \nL 73.847369 120.168653 \nL 73.847369 119.831615 \nL 74.000047 119.831615 \nL 74.000047 119.663096 \nL 74.152725 119.663096 \nL 74.190895 119.157539 \nL 74.267234 119.157539 \nL 74.305403 118.651982 \nL 74.419912 118.651982 \nL 74.458082 118.314944 \nL 74.725268 118.314944 \nL 74.763438 117.809387 \nL 74.916116 117.809387 \nL 74.992455 117.47235 \nL 75.068794 117.47235 \nL 75.145133 116.798274 \nL 75.183302 116.798274 \nL 75.183302 116.629755 \nL 75.33598 116.629755 \nL 75.33598 116.461236 \nL 75.488658 116.461236 \nL 75.564997 116.124198 \nL 75.603167 116.124198 \nL 75.679506 115.78716 \nL 75.717675 115.78716 \nL 75.717675 115.618641 \nL 75.832184 115.618641 \nL 75.908523 114.944565 \nL 75.946692 114.944565 \nL 76.023031 114.607527 \nL 76.252048 114.607527 \nL 76.290218 113.933452 \nL 76.366557 113.933452 \nL 76.442896 113.427895 \nL 76.519235 113.427895 \nL 76.595574 112.753819 \nL 76.710082 112.753819 \nL 76.786421 112.248262 \nL 76.939099 112.248262 \nL 76.977269 111.742705 \nL 77.053608 111.742705 \nL 77.053608 110.900111 \nL 77.168116 110.900111 \nL 77.168116 110.731592 \nL 77.282625 110.731592 \nL 77.358964 110.057516 \nL 77.435303 110.057516 \nL 77.435303 109.888997 \nL 77.778828 109.888997 \nL 77.778828 109.551959 \nL 78.007846 109.551959 \nL 78.007846 109.38344 \nL 78.160524 109.38344 \nL 78.160524 109.214921 \nL 78.275032 109.214921 \nL 78.313202 108.877883 \nL 78.504049 108.877883 \nL 78.504049 108.709364 \nL 78.656727 108.709364 \nL 78.694897 108.203807 \nL 78.923914 108.203807 \nL 78.923914 107.361213 \nL 79.076592 107.361213 \nL 79.076592 107.192694 \nL 79.267439 107.192694 \nL 79.267439 106.687137 \nL 79.381948 106.687137 \nL 79.381948 106.518618 \nL 79.496456 106.518618 \nL 79.496456 106.18158 \nL 79.649134 106.18158 \nL 79.725473 105.338985 \nL 79.878151 105.338985 \nL 79.916321 105.001947 \nL 79.99266 105.001947 \nL 80.068999 103.316758 \nL 80.145338 103.316758 \nL 80.221677 102.642682 \nL 80.259846 102.642682 \nL 80.259846 102.137125 \nL 80.374355 102.137125 \nL 80.374355 101.968606 \nL 80.603372 101.968606 \nL 80.603372 101.800087 \nL 80.71788 101.800087 \nL 80.794219 101.463049 \nL 80.870558 101.463049 \nL 80.908728 100.957493 \nL 81.023236 100.957493 \nL 81.061406 100.620455 \nL 81.404932 100.620455 \nL 81.443101 100.114898 \nL 81.824796 100.114898 \nL 81.901135 99.440822 \nL 81.977474 99.440822 \nL 81.977474 99.272303 \nL 82.168322 99.272303 \nL 82.168322 98.935265 \nL 82.511847 98.935265 \nL 82.511847 98.766746 \nL 82.664525 98.766746 \nL 82.664525 98.598227 \nL 82.893542 98.598227 \nL 82.893542 98.429708 \nL 83.198898 98.429708 \nL 83.198898 98.261189 \nL 83.351576 98.261189 \nL 83.351576 98.09267 \nL 83.695102 98.09267 \nL 83.771441 97.587114 \nL 83.84778 97.587114 \nL 83.924119 96.913038 \nL 84.000458 96.913038 \nL 84.076797 96.407481 \nL 84.153136 96.407481 \nL 84.153136 96.238962 \nL 84.305814 96.238962 \nL 84.305814 96.070443 \nL 84.420322 96.070443 \nL 84.458492 95.396367 \nL 84.534831 95.396367 \nL 84.534831 95.227848 \nL 85.031035 95.227848 \nL 85.031035 94.722291 \nL 85.145543 94.722291 \nL 85.145543 94.553773 \nL 85.260052 94.553773 \nL 85.260052 94.216735 \nL 85.450899 94.216735 \nL 85.450899 94.048216 \nL 85.908933 94.048216 \nL 85.908933 93.879697 \nL 86.366967 93.879697 \nL 86.366967 93.542659 \nL 86.519645 93.542659 \nL 86.595984 92.194507 \nL 86.634154 92.194507 \nL 86.634154 92.025988 \nL 86.863171 92.025988 \nL 86.93951 91.520431 \nL 86.977679 91.520431 \nL 87.054018 91.183394 \nL 87.168527 91.183394 \nL 87.206696 90.677837 \nL 87.283035 90.677837 \nL 87.321205 90.340799 \nL 87.397544 90.340799 \nL 87.435713 89.666723 \nL 87.550222 89.666723 \nL 87.550222 89.498204 \nL 87.66473 89.498204 \nL 87.66473 89.329685 \nL 88.046425 89.329685 \nL 88.084595 88.824128 \nL 88.428121 88.824128 \nL 88.428121 88.655609 \nL 89.000663 88.655609 \nL 89.000663 88.48709 \nL 89.115172 88.48709 \nL 89.115172 87.981534 \nL 89.306019 87.981534 \nL 89.382358 87.307458 \nL 89.420528 87.307458 \nL 89.420528 86.97042 \nL 89.573206 86.97042 \nL 89.573206 86.633382 \nL 89.916731 86.633382 \nL 89.916731 86.464863 \nL 90.03124 86.464863 \nL 90.069409 86.127825 \nL 90.260257 86.127825 \nL 90.336596 85.453749 \nL 90.489274 85.453749 \nL 90.489274 85.28523 \nL 90.718291 85.28523 \nL 90.718291 85.116711 \nL 91.061816 85.116711 \nL 91.061816 84.779673 \nL 91.176325 84.779673 \nL 91.214494 84.274117 \nL 91.367172 84.274117 \nL 91.367172 84.105598 \nL 91.672528 84.105598 \nL 91.748867 83.76856 \nL 91.863376 83.76856 \nL 91.939715 83.263003 \nL 92.32141 83.263003 \nL 92.32141 83.094484 \nL 92.512258 83.094484 \nL 92.512258 82.925965 \nL 92.626766 82.925965 \nL 92.626766 82.757446 \nL 92.817614 82.757446 \nL 92.817614 82.588927 \nL 92.932122 82.588927 \nL 92.932122 82.420408 \nL 93.0848 82.420408 \nL 93.0848 82.08337 \nL 93.428326 82.08337 \nL 93.428326 81.914851 \nL 93.619173 81.914851 \nL 93.657343 81.577813 \nL 94.191716 81.577813 \nL 94.191716 81.409294 \nL 94.344394 81.409294 \nL 94.344394 81.240776 \nL 94.61158 81.240776 \nL 94.64975 80.903738 \nL 94.993275 80.903738 \nL 94.993275 80.735219 \nL 95.107784 80.735219 \nL 95.145953 79.892624 \nL 95.41314 79.892624 \nL 95.41314 79.724105 \nL 95.871174 79.724105 \nL 95.871174 79.555586 \nL 96.100191 79.555586 \nL 96.100191 79.387067 \nL 96.252869 79.387067 \nL 96.252869 79.050029 \nL 96.405547 79.050029 \nL 96.405547 78.88151 \nL 96.520056 78.88151 \nL 96.520056 78.712991 \nL 97.474293 78.712991 \nL 97.474293 78.544472 \nL 97.74148 78.544472 \nL 97.74148 78.375953 \nL 97.970497 78.375953 \nL 98.046836 77.701878 \nL 98.085005 77.701878 \nL 98.085005 77.533359 \nL 98.619378 77.533359 \nL 98.657548 77.196321 \nL 98.810226 77.196321 \nL 98.810226 77.027802 \nL 99.001074 77.027802 \nL 99.001074 76.859283 \nL 99.30643 76.859283 \nL 99.344599 76.353726 \nL 99.420938 76.353726 \nL 99.420938 76.016688 \nL 99.573616 76.016688 \nL 99.573616 75.848169 \nL 99.726294 75.848169 \nL 99.764464 75.342612 \nL 99.840803 75.342612 \nL 99.840803 75.005574 \nL 100.03165 75.005574 \nL 100.06982 74.500018 \nL 100.298837 74.500018 \nL 100.298837 74.16298 \nL 100.413345 74.16298 \nL 100.413345 73.994461 \nL 100.527854 73.994461 \nL 100.566023 73.657423 \nL 100.79504 73.657423 \nL 100.871379 73.320385 \nL 100.947718 73.320385 \nL 100.947718 73.151866 \nL 101.062227 73.151866 \nL 101.062227 72.646309 \nL 101.176735 72.646309 \nL 101.176735 72.47779 \nL 101.482091 72.47779 \nL 101.482091 72.309271 \nL 101.978295 72.309271 \nL 102.016464 71.972233 \nL 102.092803 71.972233 \nL 102.130973 71.635195 \nL 102.207312 71.635195 \nL 102.245481 71.298158 \nL 102.32182 71.298158 \nL 102.32182 70.792601 \nL 102.474499 70.792601 \nL 102.512668 70.287044 \nL 102.779855 70.287044 \nL 102.779855 70.118525 \nL 103.008872 70.118525 \nL 103.008872 69.781487 \nL 103.12338 69.781487 \nL 103.12338 69.612968 \nL 103.505075 69.612968 \nL 103.581414 69.107411 \nL 103.92494 69.107411 \nL 103.92494 68.938892 \nL 104.115787 68.938892 \nL 104.115787 68.770373 \nL 104.230296 68.770373 \nL 104.306635 68.264816 \nL 104.344804 68.264816 \nL 104.344804 68.096298 \nL 104.573821 68.096298 \nL 104.573821 67.927779 \nL 104.68833 67.927779 \nL 104.68833 67.75926 \nL 104.841008 67.75926 \nL 104.841008 67.590741 \nL 104.955516 67.590741 \nL 104.993686 67.085184 \nL 105.070025 67.085184 \nL 105.070025 66.748146 \nL 105.337211 66.748146 \nL 105.337211 66.579627 \nL 105.489889 66.579627 \nL 105.489889 66.411108 \nL 105.757076 66.411108 \nL 105.757076 66.242589 \nL 105.871584 66.242589 \nL 105.871584 65.737032 \nL 106.062432 65.737032 \nL 106.100602 65.399994 \nL 106.596805 65.399994 \nL 106.596805 65.231475 \nL 106.825822 65.231475 \nL 106.863992 64.894437 \nL 107.283856 64.894437 \nL 107.322026 64.5574 \nL 107.589212 64.5574 \nL 107.589212 64.388881 \nL 107.703721 64.388881 \nL 107.703721 63.883324 \nL 107.818229 63.883324 \nL 107.818229 63.714805 \nL 108.276263 63.714805 \nL 108.352602 63.209248 \nL 108.54345 63.209248 \nL 108.581619 62.87221 \nL 108.963314 62.87221 \nL 108.963314 62.703691 \nL 109.077823 62.703691 \nL 109.154162 62.366653 \nL 109.26867 62.366653 \nL 109.30684 62.029615 \nL 109.650366 62.029615 \nL 109.650366 61.861096 \nL 109.955722 61.861096 \nL 109.955722 61.692577 \nL 110.375586 61.692577 \nL 110.451925 61.35554 \nL 110.604603 61.35554 \nL 110.680942 60.681464 \nL 110.795451 60.681464 \nL 110.87179 60.175907 \nL 111.100807 60.175907 \nL 111.100807 60.007388 \nL 111.215315 60.007388 \nL 111.253485 59.67035 \nL 111.520671 59.67035 \nL 111.520671 59.333312 \nL 111.711519 59.333312 \nL 111.711519 59.164793 \nL 112.055044 59.164793 \nL 112.131383 58.827755 \nL 112.627587 58.827755 \nL 112.665756 58.322198 \nL 112.932943 58.322198 \nL 112.932943 58.15368 \nL 113.047452 58.15368 \nL 113.123791 57.816642 \nL 113.734503 57.816642 \nL 113.734503 57.479604 \nL 114.192537 57.479604 \nL 114.192537 57.311085 \nL 115.223113 57.311085 \nL 115.223113 57.142566 \nL 115.566639 57.142566 \nL 115.642978 56.805528 \nL 116.21552 56.805528 \nL 116.21552 56.637009 \nL 116.330029 56.637009 \nL 116.330029 56.46849 \nL 116.444538 56.46849 \nL 116.444538 56.131452 \nL 116.597216 56.131452 \nL 116.597216 55.794414 \nL 117.398775 55.794414 \nL 117.398775 55.625895 \nL 117.551453 55.625895 \nL 117.551453 55.457376 \nL 117.704131 55.457376 \nL 117.704131 55.288857 \nL 118.467521 55.288857 \nL 118.467521 55.120338 \nL 118.925555 55.120338 \nL 118.925555 54.951819 \nL 119.078233 54.951819 \nL 119.078233 54.783301 \nL 119.192742 54.783301 \nL 119.192742 54.614782 \nL 119.34542 54.614782 \nL 119.34542 54.446263 \nL 119.650776 54.446263 \nL 119.650776 54.277744 \nL 119.879793 54.277744 \nL 119.917962 53.940706 \nL 120.261488 53.940706 \nL 120.261488 53.772187 \nL 120.795861 53.772187 \nL 120.795861 53.603668 \nL 120.948539 53.603668 \nL 120.986709 53.26663 \nL 121.177556 53.26663 \nL 121.177556 53.098111 \nL 121.444743 53.098111 \nL 121.444743 52.929592 \nL 122.017285 52.929592 \nL 122.055455 52.592554 \nL 122.284472 52.592554 \nL 122.322641 52.255516 \nL 122.589828 52.255516 \nL 122.589828 51.749959 \nL 122.704336 51.749959 \nL 122.704336 51.581441 \nL 123.20054 51.581441 \nL 123.20054 50.907365 \nL 123.544066 50.907365 \nL 123.544066 50.738846 \nL 123.773083 50.738846 \nL 123.773083 50.570327 \nL 124.0021 50.570327 \nL 124.040269 50.233289 \nL 124.192947 50.233289 \nL 124.192947 49.896251 \nL 124.879998 49.896251 \nL 124.879998 49.727732 \nL 125.299863 49.727732 \nL 125.338032 49.390694 \nL 125.452541 49.390694 \nL 125.452541 49.222175 \nL 125.719727 49.222175 \nL 125.757897 48.716618 \nL 126.025083 48.716618 \nL 126.025083 48.548099 \nL 126.29227 48.548099 \nL 126.29227 48.37958 \nL 126.444948 48.37958 \nL 126.521287 48.042543 \nL 126.635795 48.042543 \nL 126.635795 47.874024 \nL 126.788473 47.874024 \nL 126.788473 47.705505 \nL 127.09383 47.705505 \nL 127.09383 47.199948 \nL 127.628203 47.199948 \nL 127.628203 47.031429 \nL 128.086237 47.031429 \nL 128.086237 46.86291 \nL 128.238915 46.86291 \nL 128.238915 46.525872 \nL 129.002305 46.525872 \nL 129.002305 46.357353 \nL 130.223729 46.357353 \nL 130.223729 46.188834 \nL 130.643594 46.188834 \nL 130.643594 46.020315 \nL 130.91078 46.020315 \nL 130.987119 45.514758 \nL 131.101628 45.514758 \nL 131.101628 45.346239 \nL 131.636001 45.346239 \nL 131.636001 45.17772 \nL 132.323052 45.17772 \nL 132.361221 44.840683 \nL 133.20095 44.840683 \nL 133.20095 44.672164 \nL 133.315459 44.672164 \nL 133.315459 44.503645 \nL 133.773493 44.503645 \nL 133.773493 44.335126 \nL 134.613222 44.335126 \nL 134.613222 44.166607 \nL 134.880409 44.166607 \nL 134.880409 43.998088 \nL 135.414782 43.998088 \nL 135.414782 43.829569 \nL 135.681968 43.829569 \nL 135.681968 43.66105 \nL 135.872816 43.66105 \nL 135.872816 43.492531 \nL 136.369019 43.492531 \nL 136.369019 43.324012 \nL 136.483528 43.324012 \nL 136.483528 43.155493 \nL 137.017901 43.155493 \nL 137.017901 42.986974 \nL 137.8958 42.986974 \nL 137.8958 42.818455 \nL 138.926376 42.818455 \nL 138.926376 42.649936 \nL 140.873021 42.649936 \nL 140.873021 42.481417 \nL 141.292886 42.481417 \nL 141.292886 42.312898 \nL 141.636411 42.312898 \nL 141.674581 41.97586 \nL 141.789089 41.97586 \nL 141.789089 41.807341 \nL 141.941767 41.807341 \nL 141.941767 41.638823 \nL 143.315869 41.638823 \nL 143.392208 41.301785 \nL 144.422785 41.301785 \nL 144.422785 41.133266 \nL 144.880819 41.133266 \nL 144.918989 40.796228 \nL 145.415192 40.796228 \nL 145.415192 40.627709 \nL 145.835057 40.627709 \nL 145.835057 40.45919 \nL 147.13282 40.45919 \nL 147.13282 40.290671 \nL 147.514515 40.290671 \nL 147.514515 40.122152 \nL 148.430583 40.122152 \nL 148.430583 39.953633 \nL 148.69777 39.953633 \nL 148.69777 39.785114 \nL 148.850448 39.785114 \nL 148.850448 39.448076 \nL 149.232143 39.448076 \nL 149.232143 39.279557 \nL 150.033702 39.279557 \nL 150.033702 39.111038 \nL 150.568075 39.111038 \nL 150.606245 38.774 \nL 150.758923 38.774 \nL 150.758923 38.605481 \nL 151.140618 38.605481 \nL 151.140618 38.436962 \nL 151.75133 38.436962 \nL 151.75133 38.268444 \nL 151.942178 38.268444 \nL 151.942178 38.099925 \nL 152.171195 38.099925 \nL 152.171195 37.931406 \nL 155.186586 37.931406 \nL 155.186586 37.762887 \nL 159.118045 37.762887 \nL 159.118045 37.594368 \nL 160.912011 37.594368 \nL 160.912011 37.425849 \nL 162.5533 37.425849 \nL 162.5533 37.25733 \nL 163.545707 37.25733 \nL 163.545707 37.088811 \nL 166.141234 37.088811 \nL 166.141234 36.920292 \nL 166.255742 36.920292 \nL 166.255742 36.583254 \nL 168.316895 36.583254 \nL 168.316895 36.414735 \nL 171.0651 36.414735 \nL 171.0651 36.246216 \nL 172.59188 36.246216 \nL 172.59188 36.077697 \nL 174.309508 36.077697 \nL 174.309508 35.909178 \nL 176.676017 35.909178 \nL 176.676017 35.740659 \nL 180.760154 35.740659 \nL 180.760154 35.57214 \nL 182.096087 35.57214 \nL 182.096087 35.403621 \nL 184.119071 35.403621 \nL 184.119071 35.235102 \nL 185.874868 35.235102 \nL 185.874868 35.066583 \nL 188.508564 35.066583 \nL 188.508564 34.898065 \nL 191.752972 34.898065 \nL 191.752972 34.729546 \nL 192.783548 34.729546 \nL 192.783548 34.561027 \nL 196.371482 34.561027 \nL 196.371482 34.392508 \nL 210.150673 34.392508 \nL 210.150673 34.223989 \nL 216.753998 34.223989 \nL 216.753998 34.05547 \nL 227.097934 34.05547 \nL 227.097934 33.886951 \nL 236.373124 33.886951 \nL 236.373124 33.718432 \nL 242.098549 33.718432 \nL 242.098549 33.549913 \nL 242.594753 33.549913 \nL 242.594753 33.381394 \nL 244.426889 33.381394 \nL 244.426889 33.212875 \nL 249.694281 33.212875 \nL 249.694281 33.044356 \nL 256.297605 33.044356 \nL 256.297605 32.875837 \nL 268.931712 32.875837 \nL 268.931712 32.707318 \nL 280.420733 32.707318 \nL 280.420733 32.538799 \nL 288.283651 32.538799 \nL 288.283651 32.37028 \nL 336.720753 32.37028 \nL 336.720753 32.201761 \nL 363.363068 32.201761 \nL 363.363068 32.201761 \n\" style=\"fill:none;stroke:#1f77b4;stroke-linecap:square;stroke-width:1.5;\"/>\n   </g>\n   <g id=\"line2d_14\">\n    <path clip-path=\"url(#p37e8178db0)\" d=\"M 58.999432 229.874489 \nL 363.363068 32.201761 \nL 363.363068 32.201761 \n\" style=\"fill:none;stroke:#000000;stroke-dasharray:5.55,2.4;stroke-dashoffset:0;stroke-width:1.5;\"/>\n   </g>\n   <g id=\"patch_3\">\n    <path d=\"M 43.78125 239.758125 \nL 43.78125 22.318125 \n\" style=\"fill:none;stroke:#000000;stroke-linecap:square;stroke-linejoin:miter;stroke-width:0.8;\"/>\n   </g>\n   <g id=\"patch_4\">\n    <path d=\"M 378.58125 239.758125 \nL 378.58125 22.318125 \n\" style=\"fill:none;stroke:#000000;stroke-linecap:square;stroke-linejoin:miter;stroke-width:0.8;\"/>\n   </g>\n   <g id=\"patch_5\">\n    <path d=\"M 43.78125 239.758125 \nL 378.58125 239.758125 \n\" style=\"fill:none;stroke:#000000;stroke-linecap:square;stroke-linejoin:miter;stroke-width:0.8;\"/>\n   </g>\n   <g id=\"patch_6\">\n    <path d=\"M 43.78125 22.318125 \nL 378.58125 22.318125 \n\" style=\"fill:none;stroke:#000000;stroke-linecap:square;stroke-linejoin:miter;stroke-width:0.8;\"/>\n   </g>\n   <g id=\"text_15\">\n    <!-- ROC Curve -->\n    <defs>\n     <path d=\"M 39.40625 66.21875 \nQ 28.65625 66.21875 22.328125 58.203125 \nQ 16.015625 50.203125 16.015625 36.375 \nQ 16.015625 22.609375 22.328125 14.59375 \nQ 28.65625 6.59375 39.40625 6.59375 \nQ 50.140625 6.59375 56.421875 14.59375 \nQ 62.703125 22.609375 62.703125 36.375 \nQ 62.703125 50.203125 56.421875 58.203125 \nQ 50.140625 66.21875 39.40625 66.21875 \nz\nM 39.40625 74.21875 \nQ 54.734375 74.21875 63.90625 63.9375 \nQ 73.09375 53.65625 73.09375 36.375 \nQ 73.09375 19.140625 63.90625 8.859375 \nQ 54.734375 -1.421875 39.40625 -1.421875 \nQ 24.03125 -1.421875 14.8125 8.828125 \nQ 5.609375 19.09375 5.609375 36.375 \nQ 5.609375 53.65625 14.8125 63.9375 \nQ 24.03125 74.21875 39.40625 74.21875 \nz\n\" id=\"DejaVuSans-79\"/>\n     <path d=\"M 64.40625 67.28125 \nL 64.40625 56.890625 \nQ 59.421875 61.53125 53.78125 63.8125 \nQ 48.140625 66.109375 41.796875 66.109375 \nQ 29.296875 66.109375 22.65625 58.46875 \nQ 16.015625 50.828125 16.015625 36.375 \nQ 16.015625 21.96875 22.65625 14.328125 \nQ 29.296875 6.6875 41.796875 6.6875 \nQ 48.140625 6.6875 53.78125 8.984375 \nQ 59.421875 11.28125 64.40625 15.921875 \nL 64.40625 5.609375 \nQ 59.234375 2.09375 53.4375 0.328125 \nQ 47.65625 -1.421875 41.21875 -1.421875 \nQ 24.65625 -1.421875 15.125 8.703125 \nQ 5.609375 18.84375 5.609375 36.375 \nQ 5.609375 53.953125 15.125 64.078125 \nQ 24.65625 74.21875 41.21875 74.21875 \nQ 47.75 74.21875 53.53125 72.484375 \nQ 59.328125 70.75 64.40625 67.28125 \nz\n\" id=\"DejaVuSans-67\"/>\n    </defs>\n    <g transform=\"translate(178.490625 16.318125)scale(0.12 -0.12)\">\n     <use xlink:href=\"#DejaVuSans-82\"/>\n     <use x=\"69.482422\" xlink:href=\"#DejaVuSans-79\"/>\n     <use x=\"148.193359\" xlink:href=\"#DejaVuSans-67\"/>\n     <use x=\"218.017578\" xlink:href=\"#DejaVuSans-32\"/>\n     <use x=\"249.804688\" xlink:href=\"#DejaVuSans-67\"/>\n     <use x=\"319.628906\" xlink:href=\"#DejaVuSans-117\"/>\n     <use x=\"383.007812\" xlink:href=\"#DejaVuSans-114\"/>\n     <use x=\"424.121094\" xlink:href=\"#DejaVuSans-118\"/>\n     <use x=\"483.300781\" xlink:href=\"#DejaVuSans-101\"/>\n    </g>\n   </g>\n  </g>\n </g>\n <defs>\n  <clipPath id=\"p37e8178db0\">\n   <rect height=\"217.44\" width=\"334.8\" x=\"43.78125\" y=\"22.318125\"/>\n  </clipPath>\n </defs>\n</svg>\n",
      "image/png": "[encoded data removed]"
     },
     "metadata": {
      "needs_background": "light"
     }
    }
   ],
   "source": [
    "from sklearn.metrics import roc_curve, roc_auc_score\n",
    "import matplotlib.pyplot as plt\n",
    "fpr, tpr, treshold = roc_curve(curr_df.Target_test, curr_df.Prediction_Logreg2)\n",
    "plt.plot(fpr, tpr)\n",
    "plt.plot(fpr, fpr, linestyle='--', color='k')\n",
    "plt.xlabel('False Positve Rate')\n",
    "plt.ylabel('True Positve Rate')\n",
    "plt.title('ROC Curve')"
   ]
  },
  {
   "cell_type": "code",
   "execution_count": 41,
   "metadata": {},
   "outputs": [
    {
     "output_type": "execute_result",
     "data": {
      "text/plain": [
       "0.9192420122431149"
      ]
     },
     "metadata": {},
     "execution_count": 41
    }
   ],
   "source": [
    "roc_auc_score(curr_df.Target_test, curr_df.Prediction_Logreg2)"
   ]
  },
  {
   "source": [
    "# 3. Probabilistic Metrics\n",
    "\n",
    "Probabilistic Metrics sind speziell darauf ausgelegt, die Unsicherheit in den Vorhersagen eines Klassifikators zu quantifizieren."
   ],
   "cell_type": "markdown",
   "metadata": {}
  },
  {
   "source": [
    "Übung: Berechne den Brier Score"
   ],
   "cell_type": "markdown",
   "metadata": {}
  },
  {
   "cell_type": "code",
   "execution_count": 42,
   "metadata": {},
   "outputs": [
    {
     "output_type": "execute_result",
     "data": {
      "text/plain": [
       "0.12408439925658686"
      ]
     },
     "metadata": {},
     "execution_count": 42
    }
   ],
   "source": [
    "from sklearn.metrics import brier_score_loss\n",
    "brier_score_loss(curr_df.Target_test, curr_df.Prediction_Tree2)"
   ]
  },
  {
   "cell_type": "code",
   "execution_count": 43,
   "metadata": {},
   "outputs": [
    {
     "output_type": "execute_result",
     "data": {
      "text/plain": [
       "0.07258228885435997"
      ]
     },
     "metadata": {},
     "execution_count": 43
    }
   ],
   "source": [
    "brier_score_loss(curr_df.Target_test, curr_df.Prediction_Logreg2)"
   ]
  },
  {
   "cell_type": "code",
   "execution_count": null,
   "metadata": {},
   "outputs": [],
   "source": []
  }
 ]
}